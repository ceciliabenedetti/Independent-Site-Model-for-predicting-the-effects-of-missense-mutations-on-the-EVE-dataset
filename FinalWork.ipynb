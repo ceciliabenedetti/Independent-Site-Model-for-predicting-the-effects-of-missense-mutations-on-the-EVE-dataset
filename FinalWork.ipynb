{
 "cells": [
  {
   "cell_type": "markdown",
   "id": "e9c25515",
   "metadata": {},
   "source": [
    "# Cecilia Benedetti - ISM for mutation effect prediction"
   ]
  },
  {
   "cell_type": "markdown",
   "id": "2f6765b5",
   "metadata": {},
   "source": [
    "# DATA PREPROCESSING"
   ]
  },
  {
   "cell_type": "code",
   "execution_count": null,
   "id": "56e631e7",
   "metadata": {},
   "outputs": [],
   "source": [
    "import numpy as np\n",
    "from collections import defaultdict\n",
    "import sys\n",
    "import argparse\n",
    "import re\n",
    "import pandas as pd\n",
    "import numpy as np\n",
    "from sklearn import metrics\n",
    "import os\n",
    "import random\n",
    "import sklearn\n",
    "import seaborn as sns\n",
    "import matplotlib.pyplot as plt\n",
    "from sklearn.preprocessing import MinMaxScaler\n",
    "from scipy import stats\n",
    "import statistics"
   ]
  },
  {
   "cell_type": "markdown",
   "id": "5b1c241a",
   "metadata": {},
   "source": [
    "### CHECK FOR MISSING DATA"
   ]
  },
  {
   "cell_type": "code",
   "execution_count": 2,
   "id": "7e188a34",
   "metadata": {},
   "outputs": [],
   "source": [
    "MSA = []\n",
    "path_of_the_directory= 'Data'\n",
    "for filename in os.listdir('Data'):\n",
    "    f = os.path.join(path_of_the_directory,filename)\n",
    "    name = str(f)[5:-8]\n",
    "    MSA.append(name)\n",
    "\n",
    "Mut = []\n",
    "path_of_the_directory_mutation= 'Mutations'\n",
    "for filename in os.listdir(path_of_the_directory_mutation):\n",
    "    f = os.path.join(path_of_the_directory,filename)\n",
    "    name = str(f)[5:-4]\n",
    "    Mut.append(name)"
   ]
  },
  {
   "cell_type": "code",
   "execution_count": 3,
   "id": "009b5ab2",
   "metadata": {},
   "outputs": [
    {
     "data": {
      "text/plain": [
       "{'ARMC4_HUMAN',\n",
       " 'BRCA1_BRCT_HUMAN_1620_1856',\n",
       " 'BRCA1_HUMAN_',\n",
       " 'BRCA1_RING_HUMAN_1_110',\n",
       " 'CASK_HUMAN',\n",
       " 'CC114_HUMAN',\n",
       " 'CRYA2_HUMAN',\n",
       " 'DVLP1_HUMAN',\n",
       " 'H2A1_HUMAN',\n",
       " 'H31_HUMAN',\n",
       " 'KHD3L_HUMAN',\n",
       " 'SIAS_HUMAN',\n",
       " 'SMN_HUMAN'}"
      ]
     },
     "execution_count": 3,
     "metadata": {},
     "output_type": "execute_result"
    }
   ],
   "source": [
    "MSA = set(MSA)\n",
    "Mut = set(Mut)\n",
    "missing_values_Mut= MSA-Mut\n",
    "missing_values_Mut"
   ]
  },
  {
   "cell_type": "markdown",
   "id": "292a03ca",
   "metadata": {},
   "source": [
    "all values relative to BRCA1 are erroneusly there"
   ]
  },
  {
   "cell_type": "code",
   "execution_count": 4,
   "id": "2e18fab3",
   "metadata": {},
   "outputs": [],
   "source": [
    "missing_values_Mut.remove('BRCA1_BRCT_HUMAN_1620_1856')\n",
    "missing_values_Mut.remove('BRCA1_HUMAN_')\n",
    "missing_values_Mut.remove('BRCA1_RING_HUMAN_1_110')"
   ]
  },
  {
   "cell_type": "code",
   "execution_count": 5,
   "id": "22eb99e8",
   "metadata": {},
   "outputs": [
    {
     "data": {
      "text/plain": [
       "{'ARMC4_HUMAN',\n",
       " 'CASK_HUMAN',\n",
       " 'CC114_HUMAN',\n",
       " 'CRYA2_HUMAN',\n",
       " 'DVLP1_HUMAN',\n",
       " 'H2A1_HUMAN',\n",
       " 'H31_HUMAN',\n",
       " 'KHD3L_HUMAN',\n",
       " 'SIAS_HUMAN',\n",
       " 'SMN_HUMAN'}"
      ]
     },
     "execution_count": 5,
     "metadata": {},
     "output_type": "execute_result"
    }
   ],
   "source": [
    "missing_values_Mut"
   ]
  },
  {
   "cell_type": "code",
   "execution_count": 6,
   "id": "8425fc04",
   "metadata": {},
   "outputs": [
    {
     "data": {
      "text/plain": [
       "{'ADRB2_HUMAN'}"
      ]
     },
     "execution_count": 6,
     "metadata": {},
     "output_type": "execute_result"
    }
   ],
   "source": [
    "missing_values_MSA = Mut-MSA\n",
    "missing_values_MSA\n",
    "missing_values_MSA.remove('BRCA1_BRCT_HUMAN')\n",
    "missing_values_MSA.remove('BRCA1_HUMAN')\n",
    "missing_values_MSA.remove('BRCA1_RING_HUMAN')\n",
    "missing_values_MSA"
   ]
  },
  {
   "cell_type": "markdown",
   "id": "84655bca",
   "metadata": {},
   "source": [
    "Check missing values in the two datasets "
   ]
  },
  {
   "cell_type": "markdown",
   "id": "c08c8139",
   "metadata": {},
   "source": [
    "### MUTATION TABLE"
   ]
  },
  {
   "cell_type": "markdown",
   "id": "e6205a74",
   "metadata": {},
   "source": [
    "Check that every mutation has at least 5 pathogenic and 5 benign labels"
   ]
  },
  {
   "cell_type": "code",
   "execution_count": 7,
   "id": "bcc52024",
   "metadata": {},
   "outputs": [
    {
     "data": {
      "text/html": [
       "<div>\n",
       "<style scoped>\n",
       "    .dataframe tbody tr th:only-of-type {\n",
       "        vertical-align: middle;\n",
       "    }\n",
       "\n",
       "    .dataframe tbody tr th {\n",
       "        vertical-align: top;\n",
       "    }\n",
       "\n",
       "    .dataframe thead th {\n",
       "        text-align: right;\n",
       "    }\n",
       "</style>\n",
       "<table border=\"1\" class=\"dataframe\">\n",
       "  <thead>\n",
       "    <tr style=\"text-align: right;\">\n",
       "      <th></th>\n",
       "      <th>gene name</th>\n",
       "      <th>wt_aa</th>\n",
       "      <th>position</th>\n",
       "      <th>mt_aa</th>\n",
       "      <th>ClinVar</th>\n",
       "      <th>EVEscore</th>\n",
       "      <th>EVElabels</th>\n",
       "    </tr>\n",
       "  </thead>\n",
       "  <tbody>\n",
       "    <tr>\n",
       "      <th>0</th>\n",
       "      <td>3BP2_HUMAN</td>\n",
       "      <td>E</td>\n",
       "      <td>5</td>\n",
       "      <td>D</td>\n",
       "      <td>uncertain</td>\n",
       "      <td>0.415034</td>\n",
       "      <td>uncertain</td>\n",
       "    </tr>\n",
       "    <tr>\n",
       "      <th>1</th>\n",
       "      <td>3BP2_HUMAN</td>\n",
       "      <td>P</td>\n",
       "      <td>9</td>\n",
       "      <td>L</td>\n",
       "      <td>uncertain</td>\n",
       "      <td>0.584747</td>\n",
       "      <td>uncertain</td>\n",
       "    </tr>\n",
       "    <tr>\n",
       "      <th>2</th>\n",
       "      <td>3BP2_HUMAN</td>\n",
       "      <td>P</td>\n",
       "      <td>11</td>\n",
       "      <td>L</td>\n",
       "      <td>uncertain</td>\n",
       "      <td>0.584015</td>\n",
       "      <td>uncertain</td>\n",
       "    </tr>\n",
       "    <tr>\n",
       "      <th>3</th>\n",
       "      <td>3BP2_HUMAN</td>\n",
       "      <td>M</td>\n",
       "      <td>12</td>\n",
       "      <td>V</td>\n",
       "      <td>uncertain</td>\n",
       "      <td>0.623479</td>\n",
       "      <td>uncertain</td>\n",
       "    </tr>\n",
       "    <tr>\n",
       "      <th>4</th>\n",
       "      <td>3BP2_HUMAN</td>\n",
       "      <td>G</td>\n",
       "      <td>16</td>\n",
       "      <td>R</td>\n",
       "      <td>uncertain</td>\n",
       "      <td>0.628165</td>\n",
       "      <td>uncertain</td>\n",
       "    </tr>\n",
       "    <tr>\n",
       "      <th>...</th>\n",
       "      <td>...</td>\n",
       "      <td>...</td>\n",
       "      <td>...</td>\n",
       "      <td>...</td>\n",
       "      <td>...</td>\n",
       "      <td>...</td>\n",
       "      <td>...</td>\n",
       "    </tr>\n",
       "    <tr>\n",
       "      <th>273691</th>\n",
       "      <td>ZEB2_HUMAN</td>\n",
       "      <td>S</td>\n",
       "      <td>1189</td>\n",
       "      <td>F</td>\n",
       "      <td>uncertain</td>\n",
       "      <td>0.417064</td>\n",
       "      <td>uncertain</td>\n",
       "    </tr>\n",
       "    <tr>\n",
       "      <th>273692</th>\n",
       "      <td>ZEB2_HUMAN</td>\n",
       "      <td>S</td>\n",
       "      <td>1189</td>\n",
       "      <td>P</td>\n",
       "      <td>uncertain</td>\n",
       "      <td>0.125278</td>\n",
       "      <td>uncertain</td>\n",
       "    </tr>\n",
       "    <tr>\n",
       "      <th>273693</th>\n",
       "      <td>ZEB2_HUMAN</td>\n",
       "      <td>M</td>\n",
       "      <td>1190</td>\n",
       "      <td>T</td>\n",
       "      <td>uncertain</td>\n",
       "      <td>0.398900</td>\n",
       "      <td>uncertain</td>\n",
       "    </tr>\n",
       "    <tr>\n",
       "      <th>273694</th>\n",
       "      <td>ZEB2_HUMAN</td>\n",
       "      <td>D</td>\n",
       "      <td>1192</td>\n",
       "      <td>A</td>\n",
       "      <td>uncertain</td>\n",
       "      <td>0.289542</td>\n",
       "      <td>uncertain</td>\n",
       "    </tr>\n",
       "    <tr>\n",
       "      <th>273695</th>\n",
       "      <td>ZEB2_HUMAN</td>\n",
       "      <td>S</td>\n",
       "      <td>1194</td>\n",
       "      <td>L</td>\n",
       "      <td>uncertain</td>\n",
       "      <td>0.552879</td>\n",
       "      <td>uncertain</td>\n",
       "    </tr>\n",
       "  </tbody>\n",
       "</table>\n",
       "<p>273696 rows × 7 columns</p>\n",
       "</div>"
      ],
      "text/plain": [
       "         gene name wt_aa  position mt_aa    ClinVar  EVEscore  EVElabels\n",
       "0       3BP2_HUMAN     E         5     D  uncertain  0.415034  uncertain\n",
       "1       3BP2_HUMAN     P         9     L  uncertain  0.584747  uncertain\n",
       "2       3BP2_HUMAN     P        11     L  uncertain  0.584015  uncertain\n",
       "3       3BP2_HUMAN     M        12     V  uncertain  0.623479  uncertain\n",
       "4       3BP2_HUMAN     G        16     R  uncertain  0.628165  uncertain\n",
       "...            ...   ...       ...   ...        ...       ...        ...\n",
       "273691  ZEB2_HUMAN     S      1189     F  uncertain  0.417064  uncertain\n",
       "273692  ZEB2_HUMAN     S      1189     P  uncertain  0.125278  uncertain\n",
       "273693  ZEB2_HUMAN     M      1190     T  uncertain  0.398900  uncertain\n",
       "273694  ZEB2_HUMAN     D      1192     A  uncertain  0.289542  uncertain\n",
       "273695  ZEB2_HUMAN     S      1194     L  uncertain  0.552879  uncertain\n",
       "\n",
       "[273696 rows x 7 columns]"
      ]
     },
     "execution_count": 7,
     "metadata": {},
     "output_type": "execute_result"
    }
   ],
   "source": [
    "df_to_concat = []\n",
    "store_mut_name =[]\n",
    "x = 0\n",
    "directory= 'Mutations'\n",
    "for file in os.listdir(directory): \n",
    "    x+=1 \n",
    "    name = file[:-4]\n",
    "    mutation = os.path.join(directory,file)\n",
    "    df_m = pd.read_csv(mutation, low_memory = False)\n",
    "    df_m = df_m.iloc[:,[0,1,2,6,10,37]]\n",
    "    df_m = df_m.dropna()\n",
    "    l = [name for i in range(len(df_m))]\n",
    "    \n",
    "    \n",
    "    counts = dict(df_m['Starred_Coarse_Grained_Clin_Sig'].value_counts())\n",
    "       \n",
    "    if ('benign' in counts.keys()) == False:\n",
    "        continue\n",
    "    if ('pathogenic' in counts.keys()) == False:\n",
    "        continue \n",
    "    benign = counts['benign']\n",
    "    pathogenic = counts['pathogenic']\n",
    "    if benign < 5: \n",
    "        continue\n",
    "    elif pathogenic<5: \n",
    "        continue\n",
    "    df_m.insert(0, 'gene name', l)\n",
    "    #df_m = df_m[df_m.iloc[:,4]!='uncertain']\n",
    "\n",
    "    df_to_concat.append(df_m)\n",
    "mutation = pd.concat(df_to_concat, ignore_index=True, axis=0)\n",
    "mutation = mutation.rename(columns={\"Starred_Coarse_Grained_Clin_Sig\": 'ClinVar'})\n",
    "mutation = mutation.rename(columns={\"EVE_scores_ASM\": 'EVEscore'})\n",
    "mutation = mutation.rename(columns={\"coarse_clinical_significance_post\": 'EVElabels'})\n",
    "mutation"
   ]
  },
  {
   "cell_type": "code",
   "execution_count": 8,
   "id": "d82f1b81",
   "metadata": {},
   "outputs": [
    {
     "data": {
      "text/plain": [
       "354"
      ]
     },
     "execution_count": 8,
     "metadata": {},
     "output_type": "execute_result"
    }
   ],
   "source": [
    "len(mutation['gene name'].unique())"
   ]
  },
  {
   "cell_type": "code",
   "execution_count": 9,
   "id": "d9b66acb",
   "metadata": {},
   "outputs": [],
   "source": [
    "g_names = mutation['gene name'].unique()"
   ]
  },
  {
   "cell_type": "markdown",
   "id": "a8fab8fd",
   "metadata": {},
   "source": [
    "### Removal of NaN and 'uncertain' values "
   ]
  },
  {
   "cell_type": "code",
   "execution_count": 10,
   "id": "62e8da92",
   "metadata": {},
   "outputs": [],
   "source": [
    "uncertain,pathogenic, benign = mutation['ClinVar'].value_counts()"
   ]
  },
  {
   "cell_type": "code",
   "execution_count": 11,
   "id": "3b95110c",
   "metadata": {},
   "outputs": [
    {
     "data": {
      "image/png": "[encoded data removed]",
      "text/plain": [
       "<Figure size 432x288 with 1 Axes>"
      ]
     },
     "metadata": {
      "needs_background": "light"
     },
     "output_type": "display_data"
    }
   ],
   "source": [
    "df = pd.DataFrame({'Values in ClinVar':['uncertain','pathogenic',' benign'], 'Count':[uncertain,pathogenic,benign]})\n",
    "ax = df.plot.bar(x='Values in ClinVar', y='Count')"
   ]
  },
  {
   "cell_type": "code",
   "execution_count": 12,
   "id": "6a3ede62",
   "metadata": {},
   "outputs": [
    {
     "data": {
      "text/plain": [
       "273696"
      ]
     },
     "execution_count": 12,
     "metadata": {},
     "output_type": "execute_result"
    }
   ],
   "source": [
    "uncertain + benign + pathogenic"
   ]
  },
  {
   "cell_type": "code",
   "execution_count": 13,
   "id": "1a8a68be",
   "metadata": {},
   "outputs": [
    {
     "data": {
      "text/plain": [
       "257023"
      ]
     },
     "execution_count": 13,
     "metadata": {},
     "output_type": "execute_result"
    }
   ],
   "source": [
    "uncertain"
   ]
  },
  {
   "cell_type": "code",
   "execution_count": 14,
   "id": "28457139",
   "metadata": {},
   "outputs": [
    {
     "data": {
      "text/plain": [
       "10694"
      ]
     },
     "execution_count": 14,
     "metadata": {},
     "output_type": "execute_result"
    }
   ],
   "source": [
    "pathogenic"
   ]
  },
  {
   "cell_type": "code",
   "execution_count": 15,
   "id": "96ceb525",
   "metadata": {},
   "outputs": [
    {
     "data": {
      "text/plain": [
       "5979"
      ]
     },
     "execution_count": 15,
     "metadata": {},
     "output_type": "execute_result"
    }
   ],
   "source": [
    "benign"
   ]
  },
  {
   "cell_type": "code",
   "execution_count": 16,
   "id": "39cab0b4",
   "metadata": {},
   "outputs": [
    {
     "data": {
      "text/plain": [
       "42.987623348386016"
      ]
     },
     "execution_count": 16,
     "metadata": {},
     "output_type": "execute_result"
    }
   ],
   "source": [
    "uncertain/benign"
   ]
  },
  {
   "cell_type": "code",
   "execution_count": 17,
   "id": "c872b76c",
   "metadata": {},
   "outputs": [
    {
     "data": {
      "text/plain": [
       "24.034318309332335"
      ]
     },
     "execution_count": 17,
     "metadata": {},
     "output_type": "execute_result"
    }
   ],
   "source": [
    "uncertain/pathogenic"
   ]
  },
  {
   "cell_type": "code",
   "execution_count": 18,
   "id": "46d02d7c",
   "metadata": {},
   "outputs": [
    {
     "data": {
      "text/plain": [
       "0.9390820472348883"
      ]
     },
     "execution_count": 18,
     "metadata": {},
     "output_type": "execute_result"
    }
   ],
   "source": [
    "uncertain/len((mutation))"
   ]
  },
  {
   "cell_type": "markdown",
   "id": "57e4c988",
   "metadata": {},
   "source": [
    "uncertain values accounts for the 94% of ClinVar labels, we remove them"
   ]
  },
  {
   "cell_type": "code",
   "execution_count": 19,
   "id": "0dabf296",
   "metadata": {},
   "outputs": [],
   "source": [
    "mutation = mutation[mutation['ClinVar']!='uncertain']\n",
    "mutation.index = [i for i in range(len(mutation))]"
   ]
  },
  {
   "cell_type": "code",
   "execution_count": 20,
   "id": "1b063cb9",
   "metadata": {},
   "outputs": [],
   "source": [
    "pathogenic, benign = mutation['ClinVar'].value_counts()"
   ]
  },
  {
   "cell_type": "code",
   "execution_count": 21,
   "id": "57e9b6b6",
   "metadata": {},
   "outputs": [
    {
     "data": {
      "text/plain": [
       "354"
      ]
     },
     "execution_count": 21,
     "metadata": {},
     "output_type": "execute_result"
    }
   ],
   "source": [
    "len(mutation['gene name'].unique())"
   ]
  },
  {
   "cell_type": "code",
   "execution_count": 22,
   "id": "019c4fda",
   "metadata": {},
   "outputs": [
    {
     "data": {
      "image/png": "[encoded data removed]",
      "text/plain": [
       "<Figure size 432x288 with 1 Axes>"
      ]
     },
     "metadata": {
      "needs_background": "light"
     },
     "output_type": "display_data"
    }
   ],
   "source": [
    "df = pd.DataFrame({'Values in ClinVar without uncertain':['pathogenic',' benign'], 'Count':[pathogenic,benign]})\n",
    "ax = df.plot.bar(x='Values in ClinVar without uncertain', y='Count')"
   ]
  },
  {
   "cell_type": "code",
   "execution_count": 23,
   "id": "2c8a6855",
   "metadata": {
    "scrolled": true
   },
   "outputs": [
    {
     "data": {
      "text/html": [
       "<div>\n",
       "<style scoped>\n",
       "    .dataframe tbody tr th:only-of-type {\n",
       "        vertical-align: middle;\n",
       "    }\n",
       "\n",
       "    .dataframe tbody tr th {\n",
       "        vertical-align: top;\n",
       "    }\n",
       "\n",
       "    .dataframe thead th {\n",
       "        text-align: right;\n",
       "    }\n",
       "</style>\n",
       "<table border=\"1\" class=\"dataframe\">\n",
       "  <thead>\n",
       "    <tr style=\"text-align: right;\">\n",
       "      <th></th>\n",
       "      <th>gene name</th>\n",
       "      <th>wt_aa</th>\n",
       "      <th>position</th>\n",
       "      <th>mt_aa</th>\n",
       "      <th>ClinVar</th>\n",
       "      <th>EVEscore</th>\n",
       "      <th>EVElabels</th>\n",
       "    </tr>\n",
       "  </thead>\n",
       "  <tbody>\n",
       "    <tr>\n",
       "      <th>0</th>\n",
       "      <td>3BP2_HUMAN</td>\n",
       "      <td>V</td>\n",
       "      <td>27</td>\n",
       "      <td>M</td>\n",
       "      <td>benign</td>\n",
       "      <td>0.630466</td>\n",
       "      <td>benign</td>\n",
       "    </tr>\n",
       "    <tr>\n",
       "      <th>1</th>\n",
       "      <td>3BP2_HUMAN</td>\n",
       "      <td>R</td>\n",
       "      <td>56</td>\n",
       "      <td>C</td>\n",
       "      <td>benign</td>\n",
       "      <td>0.151390</td>\n",
       "      <td>benign</td>\n",
       "    </tr>\n",
       "    <tr>\n",
       "      <th>2</th>\n",
       "      <td>3BP2_HUMAN</td>\n",
       "      <td>R</td>\n",
       "      <td>80</td>\n",
       "      <td>Q</td>\n",
       "      <td>benign</td>\n",
       "      <td>0.622594</td>\n",
       "      <td>benign</td>\n",
       "    </tr>\n",
       "    <tr>\n",
       "      <th>3</th>\n",
       "      <td>3BP2_HUMAN</td>\n",
       "      <td>H</td>\n",
       "      <td>100</td>\n",
       "      <td>R</td>\n",
       "      <td>benign</td>\n",
       "      <td>0.616032</td>\n",
       "      <td>benign</td>\n",
       "    </tr>\n",
       "    <tr>\n",
       "      <th>4</th>\n",
       "      <td>3BP2_HUMAN</td>\n",
       "      <td>A</td>\n",
       "      <td>155</td>\n",
       "      <td>V</td>\n",
       "      <td>benign</td>\n",
       "      <td>0.127663</td>\n",
       "      <td>benign</td>\n",
       "    </tr>\n",
       "    <tr>\n",
       "      <th>...</th>\n",
       "      <td>...</td>\n",
       "      <td>...</td>\n",
       "      <td>...</td>\n",
       "      <td>...</td>\n",
       "      <td>...</td>\n",
       "      <td>...</td>\n",
       "      <td>...</td>\n",
       "    </tr>\n",
       "    <tr>\n",
       "      <th>16668</th>\n",
       "      <td>ZEB2_HUMAN</td>\n",
       "      <td>L</td>\n",
       "      <td>1113</td>\n",
       "      <td>M</td>\n",
       "      <td>benign</td>\n",
       "      <td>0.729841</td>\n",
       "      <td>uncertain</td>\n",
       "    </tr>\n",
       "    <tr>\n",
       "      <th>16669</th>\n",
       "      <td>ZEB2_HUMAN</td>\n",
       "      <td>P</td>\n",
       "      <td>1118</td>\n",
       "      <td>H</td>\n",
       "      <td>benign</td>\n",
       "      <td>0.772766</td>\n",
       "      <td>uncertain</td>\n",
       "    </tr>\n",
       "    <tr>\n",
       "      <th>16670</th>\n",
       "      <td>ZEB2_HUMAN</td>\n",
       "      <td>L</td>\n",
       "      <td>1151</td>\n",
       "      <td>P</td>\n",
       "      <td>benign</td>\n",
       "      <td>0.373573</td>\n",
       "      <td>benign</td>\n",
       "    </tr>\n",
       "    <tr>\n",
       "      <th>16671</th>\n",
       "      <td>ZEB2_HUMAN</td>\n",
       "      <td>I</td>\n",
       "      <td>1179</td>\n",
       "      <td>T</td>\n",
       "      <td>benign</td>\n",
       "      <td>0.128273</td>\n",
       "      <td>benign</td>\n",
       "    </tr>\n",
       "    <tr>\n",
       "      <th>16672</th>\n",
       "      <td>ZEB2_HUMAN</td>\n",
       "      <td>H</td>\n",
       "      <td>1188</td>\n",
       "      <td>R</td>\n",
       "      <td>benign</td>\n",
       "      <td>0.317453</td>\n",
       "      <td>benign</td>\n",
       "    </tr>\n",
       "  </tbody>\n",
       "</table>\n",
       "<p>16673 rows × 7 columns</p>\n",
       "</div>"
      ],
      "text/plain": [
       "        gene name wt_aa  position mt_aa ClinVar  EVEscore  EVElabels\n",
       "0      3BP2_HUMAN     V        27     M  benign  0.630466     benign\n",
       "1      3BP2_HUMAN     R        56     C  benign  0.151390     benign\n",
       "2      3BP2_HUMAN     R        80     Q  benign  0.622594     benign\n",
       "3      3BP2_HUMAN     H       100     R  benign  0.616032     benign\n",
       "4      3BP2_HUMAN     A       155     V  benign  0.127663     benign\n",
       "...           ...   ...       ...   ...     ...       ...        ...\n",
       "16668  ZEB2_HUMAN     L      1113     M  benign  0.729841  uncertain\n",
       "16669  ZEB2_HUMAN     P      1118     H  benign  0.772766  uncertain\n",
       "16670  ZEB2_HUMAN     L      1151     P  benign  0.373573     benign\n",
       "16671  ZEB2_HUMAN     I      1179     T  benign  0.128273     benign\n",
       "16672  ZEB2_HUMAN     H      1188     R  benign  0.317453     benign\n",
       "\n",
       "[16673 rows x 7 columns]"
      ]
     },
     "execution_count": 23,
     "metadata": {},
     "output_type": "execute_result"
    }
   ],
   "source": [
    "mutation"
   ]
  },
  {
   "cell_type": "markdown",
   "id": "58fcf245",
   "metadata": {},
   "source": [
    "# INDEPENDENT MODEL"
   ]
  },
  {
   "cell_type": "code",
   "execution_count": 24,
   "id": "a1bb4b2a",
   "metadata": {},
   "outputs": [],
   "source": [
    "def read_fasta(fasta_path, alphabet='ACDEFGHIKLMNPQRSTVWY-', default_index=20):\n",
    "    \n",
    "    seq_dict = {}\n",
    "    with open(fasta_path, 'r') as file_handle:\n",
    "        seq_id = None\n",
    "        for line in file_handle:\n",
    "            line = line.strip()\n",
    "            if line.startswith(\">\"):\n",
    "                seq_id = line\n",
    "                seq_dict[seq_id] = \"\"\n",
    "                continue\n",
    "            assert seq_id is not None\n",
    "            line = ''.join([c for c in line if c.isupper() or c == '-'])\n",
    "            seq_dict[seq_id] += line\n",
    "            \n",
    "\n",
    "    aa_index = defaultdict(lambda: default_index, {alphabet[i]: i for i in range(len(alphabet))})\n",
    "    seq_msa = []\n",
    "    keys_list = []\n",
    "    for k in seq_dict.keys():\n",
    "        seq_msa.append([aa_index[s] for s in seq_dict[k]])\n",
    "        keys_list.append(k)\n",
    "    seq_msa = np.array(seq_msa, dtype=int)\n",
    "\n",
    "    return seq_msa.astype(np.uint8), len(alphabet)"
   ]
  },
  {
   "cell_type": "code",
   "execution_count": 25,
   "id": "59f4fe0d",
   "metadata": {},
   "outputs": [],
   "source": [
    "path_of_the_directory= 'Data'\n",
    "dict_filename= {}\n",
    "for f in os.listdir(path_of_the_directory):\n",
    "    if str(f)[:5]!='BRCA1':\n",
    "        name = str(f)[:-8]\n",
    "    else: \n",
    "        if str(f)[:11] == 'BRCA1_HUMAN': \n",
    "            name = 'BRCA1_HUMAN'\n",
    "        elif str(f)[:10] == 'BRCA1_BRCT': \n",
    "            name = 'BRCA1_BRCT_HUMAN'\n",
    "        elif str(f)[:10] == 'BRCA1_RING': \n",
    "            name = 'BRCA1_RING_HUMAN'\n",
    "    dict_filename[name] = f"
   ]
  },
  {
   "cell_type": "code",
   "execution_count": 26,
   "id": "8052c907",
   "metadata": {
    "scrolled": false
   },
   "outputs": [],
   "source": [
    "data={}\n",
    "length = {}\n",
    "alpha = 0.0001\n",
    "for gene in g_names: \n",
    "    filename = dict_filename[gene]\n",
    "    f = os.path.join(path_of_the_directory,filename)\n",
    "    data_in = read_fasta(f)\n",
    "    seq_msa, q = data_in\n",
    "    M,N = seq_msa.shape\n",
    "    freq = np.zeros((N,q))\n",
    "    for m in range(M): \n",
    "        for n in range(N): \n",
    "            freq[n,seq_msa[m,n]] +=1\n",
    "    freq = freq/M\n",
    "    data[gene] = freq*(1-alpha) + alpha*(1/q)\n",
    "    length[gene] = M"
   ]
  },
  {
   "cell_type": "code",
   "execution_count": 27,
   "id": "391e9ad1",
   "metadata": {},
   "outputs": [],
   "source": [
    "keys = list(data.keys())"
   ]
  },
  {
   "cell_type": "markdown",
   "id": "d7db643c",
   "metadata": {},
   "source": [
    "Check sum of the frequences equal to 1"
   ]
  },
  {
   "cell_type": "code",
   "execution_count": 28,
   "id": "74409aa1",
   "metadata": {},
   "outputs": [
    {
     "data": {
      "text/plain": [
       "array([1., 1., 1., 1., 1., 1., 1., 1., 1., 1., 1., 1., 1., 1., 1., 1., 1.,\n",
       "       1., 1., 1., 1., 1., 1., 1., 1., 1., 1., 1., 1., 1., 1., 1., 1., 1.,\n",
       "       1., 1., 1., 1., 1., 1., 1., 1., 1., 1., 1., 1., 1., 1., 1., 1., 1.,\n",
       "       1., 1., 1., 1., 1., 1., 1., 1., 1., 1., 1., 1., 1., 1., 1., 1., 1.,\n",
       "       1., 1., 1., 1., 1., 1., 1., 1., 1., 1., 1., 1., 1., 1., 1., 1., 1.,\n",
       "       1., 1., 1., 1., 1., 1., 1., 1., 1., 1., 1., 1., 1., 1., 1., 1., 1.,\n",
       "       1., 1., 1., 1., 1., 1., 1., 1., 1., 1., 1., 1., 1., 1., 1., 1., 1.,\n",
       "       1., 1., 1., 1., 1., 1., 1., 1., 1., 1., 1., 1., 1., 1., 1., 1., 1.,\n",
       "       1., 1., 1., 1., 1., 1., 1., 1., 1., 1., 1., 1., 1., 1., 1., 1., 1.,\n",
       "       1., 1., 1., 1., 1., 1., 1., 1., 1., 1., 1., 1., 1., 1., 1., 1., 1.,\n",
       "       1., 1., 1., 1., 1., 1., 1., 1., 1., 1., 1., 1., 1., 1., 1., 1., 1.,\n",
       "       1., 1., 1., 1., 1., 1., 1., 1., 1., 1., 1., 1., 1., 1., 1., 1., 1.,\n",
       "       1., 1., 1., 1., 1., 1., 1., 1., 1., 1., 1., 1., 1., 1., 1., 1., 1.,\n",
       "       1., 1., 1., 1., 1., 1., 1., 1., 1., 1., 1., 1., 1., 1., 1., 1., 1.,\n",
       "       1., 1., 1., 1., 1., 1., 1., 1., 1., 1., 1., 1., 1., 1., 1., 1., 1.,\n",
       "       1., 1., 1., 1., 1., 1., 1., 1., 1., 1., 1., 1., 1., 1., 1., 1., 1.,\n",
       "       1., 1., 1., 1., 1., 1., 1., 1., 1., 1., 1., 1., 1., 1., 1., 1., 1.,\n",
       "       1., 1., 1., 1., 1., 1., 1., 1., 1., 1., 1., 1., 1., 1., 1., 1., 1.,\n",
       "       1., 1., 1., 1., 1., 1., 1., 1., 1., 1., 1., 1., 1., 1., 1., 1., 1.,\n",
       "       1., 1., 1., 1., 1., 1., 1., 1., 1., 1., 1., 1., 1., 1., 1., 1., 1.,\n",
       "       1., 1., 1., 1., 1., 1., 1., 1., 1., 1., 1., 1., 1., 1., 1., 1., 1.,\n",
       "       1., 1., 1., 1., 1., 1., 1., 1., 1., 1., 1., 1., 1., 1., 1., 1., 1.,\n",
       "       1., 1., 1., 1., 1., 1., 1., 1., 1., 1., 1., 1., 1., 1., 1., 1., 1.,\n",
       "       1., 1., 1., 1., 1., 1., 1., 1., 1., 1., 1., 1., 1., 1., 1., 1., 1.,\n",
       "       1., 1., 1., 1., 1., 1., 1., 1., 1., 1., 1., 1., 1., 1., 1., 1., 1.,\n",
       "       1., 1., 1., 1., 1., 1., 1., 1., 1., 1., 1., 1., 1., 1., 1., 1., 1.,\n",
       "       1., 1., 1., 1., 1., 1., 1., 1., 1., 1., 1., 1., 1., 1., 1., 1., 1.,\n",
       "       1., 1., 1., 1., 1., 1., 1., 1., 1., 1., 1., 1., 1., 1., 1., 1., 1.,\n",
       "       1., 1., 1., 1., 1., 1., 1., 1., 1., 1., 1., 1., 1., 1., 1., 1., 1.,\n",
       "       1., 1., 1., 1., 1., 1., 1., 1., 1., 1., 1., 1., 1., 1., 1., 1., 1.,\n",
       "       1., 1., 1., 1., 1., 1., 1., 1., 1., 1., 1., 1., 1., 1., 1., 1., 1.,\n",
       "       1., 1., 1., 1., 1., 1., 1., 1., 1., 1., 1., 1., 1., 1., 1., 1., 1.,\n",
       "       1., 1., 1., 1., 1., 1., 1., 1., 1., 1., 1., 1., 1.])"
      ]
     },
     "execution_count": 28,
     "metadata": {},
     "output_type": "execute_result"
    }
   ],
   "source": [
    "np.sum(data[keys[0]], axis = 1)"
   ]
  },
  {
   "cell_type": "markdown",
   "id": "91b39280",
   "metadata": {},
   "source": [
    "### REFERENCE SEQUENCES "
   ]
  },
  {
   "cell_type": "markdown",
   "id": "5457827e",
   "metadata": {},
   "source": [
    "Store the reference sequence"
   ]
  },
  {
   "cell_type": "code",
   "execution_count": 29,
   "id": "4683d84b",
   "metadata": {},
   "outputs": [],
   "source": [
    "path_of_the_directory= 'Data'\n",
    "reference_sequences={}\n",
    "for gene in keys: \n",
    "    name = dict_filename[gene]\n",
    "    f = os.path.join('Data',name)\n",
    "    with open(f, 'r') as file_handle:\n",
    "        seq_regex=''\n",
    "        file_handle.readline()\n",
    "        for line in file_handle:\n",
    "            if line.startswith(\">\"):\n",
    "                break\n",
    "            else: \n",
    "                seq_regex+=line.strip()\n",
    "        reference_sequences[gene] = seq_regex"
   ]
  },
  {
   "cell_type": "markdown",
   "id": "8a4d30b8",
   "metadata": {},
   "source": [
    "### H MATRIX"
   ]
  },
  {
   "cell_type": "code",
   "execution_count": 31,
   "id": "1642db90",
   "metadata": {},
   "outputs": [],
   "source": [
    "def createH(f_sequence):\n",
    "    return np.log(f_sequence)"
   ]
  },
  {
   "cell_type": "code",
   "execution_count": 32,
   "id": "9756aa4d",
   "metadata": {},
   "outputs": [],
   "source": [
    "H = {}\n",
    "for key in data.keys():\n",
    "    H[key] = createH(data[key])"
   ]
  },
  {
   "cell_type": "markdown",
   "id": "ec52a608",
   "metadata": {},
   "source": [
    "### ADD MUTATIONS"
   ]
  },
  {
   "cell_type": "code",
   "execution_count": 34,
   "id": "866d9762",
   "metadata": {},
   "outputs": [],
   "source": [
    "def seq_to_num(sequence, alphabet='ACDEFGHIKLMNPQRSTVWY-', default_index=20):\n",
    "    aa_index = defaultdict(lambda: default_index, {alphabet[i]: i for i in range(len(alphabet))})\n",
    "    \n",
    "    seq_msa = []\n",
    "    line = ''.join([c for c in sequence if c.isupper() or c == '-'])\n",
    "    \n",
    "    seq_msa.append([aa_index[s] for s in line])\n",
    "\n",
    "    return seq_msa[0]"
   ]
  },
  {
   "cell_type": "code",
   "execution_count": 35,
   "id": "bcff0a70",
   "metadata": {},
   "outputs": [],
   "source": [
    "def calculatep(gene, sequence_str):\n",
    "    prob_s=0\n",
    "    sequence = seq_to_num(sequence_str)\n",
    "    for i in range(len(sequence)):\n",
    "        prob_s += H[gene][i][sequence[i]]\n",
    "    return prob_s\n",
    "    "
   ]
  },
  {
   "cell_type": "markdown",
   "id": "7131b448",
   "metadata": {},
   "source": [
    "Calculate the probability for each reference sequence"
   ]
  },
  {
   "cell_type": "code",
   "execution_count": 103,
   "id": "4ac4efa8",
   "metadata": {},
   "outputs": [],
   "source": [
    "prob_s = {}\n",
    "for seq in reference_sequences.keys(): \n",
    "    prob_s[seq] = calculatep(seq, reference_sequences[seq])"
   ]
  },
  {
   "cell_type": "markdown",
   "id": "94d43cd3",
   "metadata": {},
   "source": [
    "Calculate probability mutations"
   ]
  },
  {
   "cell_type": "code",
   "execution_count": 37,
   "id": "8ca46195",
   "metadata": {
    "scrolled": false
   },
   "outputs": [],
   "source": [
    "mutated_sequence_score= []\n",
    "for gene in g_names:\n",
    "    g_table =  mutation[mutation['gene name'] == gene]\n",
    "    g_table.index = [i for  i in range(len(g_table))]\n",
    "\n",
    "    if gene != 'BRCA1_BRCT_HUMAN':\n",
    "        for i in range(len(g_table)):\n",
    "            seq = reference_sequences[gene]\n",
    "            mutated_sequence = seq\n",
    "\n",
    "            if seq[g_table['position'][i] -1].isupper() == False:\n",
    "                #   #letter = g_table['mt_aa'][i].lower()\n",
    "                mutated_sequence_score.append('to be dropped')\n",
    "                pass\n",
    "            else: \n",
    "                letter = g_table['mt_aa'][i]\n",
    "                mutated_sequence = seq[:g_table['position'][i]-1] + letter + seq[g_table['position'][i]:]\n",
    "\n",
    "            #apply the mutation\n",
    "                mutated_s = seq_to_num(mutated_sequence)\n",
    "            #evaluate probability \n",
    "                prob_s_mutated=0\n",
    "                for j in range(len(mutated_s)):\n",
    "                    prob_s_mutated += H[gene][j][mutated_s[j]]\n",
    "                    prob_s_mutated\n",
    "            #difference in probability\n",
    "                delta = prob_s[gene] - prob_s_mutated\n",
    "                mutated_sequence_score.append(delta)\n",
    "    else: \n",
    "        for i in range(len(g_table)):\n",
    "            seq = reference_sequences[gene]\n",
    "            mutated_sequence = seq\n",
    "\n",
    "            if seq[g_table['position'][i] - 1621].isupper() == False:\n",
    "                #letter = g_table['mt_aa'][i].lower()\n",
    "                mutated_sequence_score.append('to be dropped')\n",
    "                pass\n",
    "            else: \n",
    "                letter = g_table['mt_aa'][i]\n",
    "                mutated_sequence = seq[:g_table['position'][i] - 1621] + letter + seq[g_table['position'][i]-1620:]\n",
    "\n",
    "        #apply the mutation\n",
    "                mutated_s = seq_to_num(mutated_sequence)\n",
    "        #evaluate probability \n",
    "                prob_s_mutated=0\n",
    "                for j in range(len(mutated_s)):\n",
    "                    prob_s_mutated += H[gene][j][mutated_s[j]]\n",
    "                    prob_s_mutated\n",
    "        #difference in probability\n",
    "                delta = prob_s[gene] - prob_s_mutated\n",
    "                mutated_sequence_score.append(delta)"
   ]
  },
  {
   "cell_type": "code",
   "execution_count": 39,
   "id": "e4922b39",
   "metadata": {},
   "outputs": [
    {
     "data": {
      "text/html": [
       "<div>\n",
       "<style scoped>\n",
       "    .dataframe tbody tr th:only-of-type {\n",
       "        vertical-align: middle;\n",
       "    }\n",
       "\n",
       "    .dataframe tbody tr th {\n",
       "        vertical-align: top;\n",
       "    }\n",
       "\n",
       "    .dataframe thead th {\n",
       "        text-align: right;\n",
       "    }\n",
       "</style>\n",
       "<table border=\"1\" class=\"dataframe\">\n",
       "  <thead>\n",
       "    <tr style=\"text-align: right;\">\n",
       "      <th></th>\n",
       "      <th>gene name</th>\n",
       "      <th>wt_aa</th>\n",
       "      <th>position</th>\n",
       "      <th>mt_aa</th>\n",
       "      <th>ClinVar</th>\n",
       "      <th>EVEscore</th>\n",
       "      <th>EVElabels</th>\n",
       "      <th>score</th>\n",
       "    </tr>\n",
       "  </thead>\n",
       "  <tbody>\n",
       "    <tr>\n",
       "      <th>0</th>\n",
       "      <td>3BP2_HUMAN</td>\n",
       "      <td>V</td>\n",
       "      <td>27</td>\n",
       "      <td>M</td>\n",
       "      <td>benign</td>\n",
       "      <td>0.630466</td>\n",
       "      <td>benign</td>\n",
       "      <td>12.218294</td>\n",
       "    </tr>\n",
       "    <tr>\n",
       "      <th>1</th>\n",
       "      <td>3BP2_HUMAN</td>\n",
       "      <td>R</td>\n",
       "      <td>56</td>\n",
       "      <td>C</td>\n",
       "      <td>benign</td>\n",
       "      <td>0.151390</td>\n",
       "      <td>benign</td>\n",
       "      <td>5.746085</td>\n",
       "    </tr>\n",
       "    <tr>\n",
       "      <th>2</th>\n",
       "      <td>3BP2_HUMAN</td>\n",
       "      <td>R</td>\n",
       "      <td>80</td>\n",
       "      <td>Q</td>\n",
       "      <td>benign</td>\n",
       "      <td>0.622594</td>\n",
       "      <td>benign</td>\n",
       "      <td>12.234506</td>\n",
       "    </tr>\n",
       "    <tr>\n",
       "      <th>3</th>\n",
       "      <td>3BP2_HUMAN</td>\n",
       "      <td>H</td>\n",
       "      <td>100</td>\n",
       "      <td>R</td>\n",
       "      <td>benign</td>\n",
       "      <td>0.616032</td>\n",
       "      <td>benign</td>\n",
       "      <td>12.230111</td>\n",
       "    </tr>\n",
       "    <tr>\n",
       "      <th>4</th>\n",
       "      <td>3BP2_HUMAN</td>\n",
       "      <td>A</td>\n",
       "      <td>155</td>\n",
       "      <td>V</td>\n",
       "      <td>benign</td>\n",
       "      <td>0.127663</td>\n",
       "      <td>benign</td>\n",
       "      <td>5.035303</td>\n",
       "    </tr>\n",
       "    <tr>\n",
       "      <th>...</th>\n",
       "      <td>...</td>\n",
       "      <td>...</td>\n",
       "      <td>...</td>\n",
       "      <td>...</td>\n",
       "      <td>...</td>\n",
       "      <td>...</td>\n",
       "      <td>...</td>\n",
       "      <td>...</td>\n",
       "    </tr>\n",
       "    <tr>\n",
       "      <th>16668</th>\n",
       "      <td>ZEB2_HUMAN</td>\n",
       "      <td>L</td>\n",
       "      <td>1113</td>\n",
       "      <td>M</td>\n",
       "      <td>benign</td>\n",
       "      <td>0.729841</td>\n",
       "      <td>uncertain</td>\n",
       "      <td>6.193989</td>\n",
       "    </tr>\n",
       "    <tr>\n",
       "      <th>16669</th>\n",
       "      <td>ZEB2_HUMAN</td>\n",
       "      <td>P</td>\n",
       "      <td>1118</td>\n",
       "      <td>H</td>\n",
       "      <td>benign</td>\n",
       "      <td>0.772766</td>\n",
       "      <td>uncertain</td>\n",
       "      <td>3.801105</td>\n",
       "    </tr>\n",
       "    <tr>\n",
       "      <th>16670</th>\n",
       "      <td>ZEB2_HUMAN</td>\n",
       "      <td>L</td>\n",
       "      <td>1151</td>\n",
       "      <td>P</td>\n",
       "      <td>benign</td>\n",
       "      <td>0.373573</td>\n",
       "      <td>benign</td>\n",
       "      <td>6.935022</td>\n",
       "    </tr>\n",
       "    <tr>\n",
       "      <th>16671</th>\n",
       "      <td>ZEB2_HUMAN</td>\n",
       "      <td>I</td>\n",
       "      <td>1179</td>\n",
       "      <td>T</td>\n",
       "      <td>benign</td>\n",
       "      <td>0.128273</td>\n",
       "      <td>benign</td>\n",
       "      <td>2.154461</td>\n",
       "    </tr>\n",
       "    <tr>\n",
       "      <th>16672</th>\n",
       "      <td>ZEB2_HUMAN</td>\n",
       "      <td>H</td>\n",
       "      <td>1188</td>\n",
       "      <td>R</td>\n",
       "      <td>benign</td>\n",
       "      <td>0.317453</td>\n",
       "      <td>benign</td>\n",
       "      <td>3.010358</td>\n",
       "    </tr>\n",
       "  </tbody>\n",
       "</table>\n",
       "<p>16673 rows × 8 columns</p>\n",
       "</div>"
      ],
      "text/plain": [
       "        gene name wt_aa  position mt_aa ClinVar  EVEscore  EVElabels  \\\n",
       "0      3BP2_HUMAN     V        27     M  benign  0.630466     benign   \n",
       "1      3BP2_HUMAN     R        56     C  benign  0.151390     benign   \n",
       "2      3BP2_HUMAN     R        80     Q  benign  0.622594     benign   \n",
       "3      3BP2_HUMAN     H       100     R  benign  0.616032     benign   \n",
       "4      3BP2_HUMAN     A       155     V  benign  0.127663     benign   \n",
       "...           ...   ...       ...   ...     ...       ...        ...   \n",
       "16668  ZEB2_HUMAN     L      1113     M  benign  0.729841  uncertain   \n",
       "16669  ZEB2_HUMAN     P      1118     H  benign  0.772766  uncertain   \n",
       "16670  ZEB2_HUMAN     L      1151     P  benign  0.373573     benign   \n",
       "16671  ZEB2_HUMAN     I      1179     T  benign  0.128273     benign   \n",
       "16672  ZEB2_HUMAN     H      1188     R  benign  0.317453     benign   \n",
       "\n",
       "           score  \n",
       "0      12.218294  \n",
       "1       5.746085  \n",
       "2      12.234506  \n",
       "3      12.230111  \n",
       "4       5.035303  \n",
       "...          ...  \n",
       "16668   6.193989  \n",
       "16669   3.801105  \n",
       "16670   6.935022  \n",
       "16671   2.154461  \n",
       "16672   3.010358  \n",
       "\n",
       "[16673 rows x 8 columns]"
      ]
     },
     "execution_count": 39,
     "metadata": {},
     "output_type": "execute_result"
    }
   ],
   "source": [
    "mutation.insert(7,'score',mutated_sequence_score)\n",
    "mutation"
   ]
  },
  {
   "cell_type": "markdown",
   "id": "0aa56920",
   "metadata": {},
   "source": [
    "### Data visualization"
   ]
  },
  {
   "cell_type": "code",
   "execution_count": 40,
   "id": "4358774f",
   "metadata": {},
   "outputs": [
    {
     "data": {
      "text/plain": [
       "<seaborn.axisgrid.FacetGrid at 0x1b887aed490>"
      ]
     },
     "execution_count": 40,
     "metadata": {},
     "output_type": "execute_result"
    },
    {
     "data": {
      "image/png": "[encoded data removed]",
      "text/plain": [
       "<Figure size 360x360 with 1 Axes>"
      ]
     },
     "metadata": {
      "needs_background": "light"
     },
     "output_type": "display_data"
    }
   ],
   "source": [
    "sns.displot(mutation, x=\"score\",bins=10)"
   ]
  },
  {
   "cell_type": "code",
   "execution_count": 41,
   "id": "c0945640",
   "metadata": {},
   "outputs": [
    {
     "data": {
      "text/plain": [
       "count    16673.000000\n",
       "mean         7.055690\n",
       "std          4.520695\n",
       "min         -7.115327\n",
       "25%          3.077327\n",
       "50%          7.007091\n",
       "75%         12.092354\n",
       "max         12.254768\n",
       "Name: score, dtype: float64"
      ]
     },
     "execution_count": 41,
     "metadata": {},
     "output_type": "execute_result"
    }
   ],
   "source": [
    "mutation['score'].describe()"
   ]
  },
  {
   "cell_type": "code",
   "execution_count": 42,
   "id": "bb91817a",
   "metadata": {},
   "outputs": [
    {
     "data": {
      "text/plain": [
       "0.3662208360822887"
      ]
     },
     "execution_count": 42,
     "metadata": {},
     "output_type": "execute_result"
    }
   ],
   "source": [
    "len(mutation[mutation['score']>11]) / len(mutation)"
   ]
  },
  {
   "cell_type": "code",
   "execution_count": 43,
   "id": "f0103519",
   "metadata": {},
   "outputs": [],
   "source": [
    "pathog = list(mutation[mutation['ClinVar'] == 'pathogenic']['score'])"
   ]
  },
  {
   "cell_type": "code",
   "execution_count": 44,
   "id": "08550481",
   "metadata": {},
   "outputs": [
    {
     "data": {
      "image/png": "[encoded data removed]",
      "text/plain": [
       "<Figure size 432x288 with 1 Axes>"
      ]
     },
     "metadata": {
      "needs_background": "light"
     },
     "output_type": "display_data"
    }
   ],
   "source": [
    "df = pd.DataFrame({\n",
    "    'pathogenic': pathog,\n",
    "})\n",
    "ax = df.plot.kde()"
   ]
  },
  {
   "cell_type": "code",
   "execution_count": 45,
   "id": "d9a9edfc",
   "metadata": {},
   "outputs": [],
   "source": [
    "ben = list(mutation[mutation['ClinVar'] == 'benign']['score'])"
   ]
  },
  {
   "cell_type": "code",
   "execution_count": 46,
   "id": "aaf0e4b5",
   "metadata": {},
   "outputs": [
    {
     "data": {
      "image/png": "[encoded data removed]",
      "text/plain": [
       "<Figure size 432x288 with 1 Axes>"
      ]
     },
     "metadata": {
      "needs_background": "light"
     },
     "output_type": "display_data"
    }
   ],
   "source": [
    "df2 = pd.DataFrame({\n",
    "    'benign': ben,\n",
    "})\n",
    "ax = df2.plot.kde()"
   ]
  },
  {
   "cell_type": "markdown",
   "id": "ccd02673",
   "metadata": {},
   "source": [
    "# RESULTS"
   ]
  },
  {
   "cell_type": "markdown",
   "id": "43c34248",
   "metadata": {},
   "source": [
    "## AUC EVE"
   ]
  },
  {
   "cell_type": "code",
   "execution_count": 47,
   "id": "c1c6e2b5",
   "metadata": {},
   "outputs": [
    {
     "data": {
      "text/html": [
       "<div>\n",
       "<style scoped>\n",
       "    .dataframe tbody tr th:only-of-type {\n",
       "        vertical-align: middle;\n",
       "    }\n",
       "\n",
       "    .dataframe tbody tr th {\n",
       "        vertical-align: top;\n",
       "    }\n",
       "\n",
       "    .dataframe thead th {\n",
       "        text-align: right;\n",
       "    }\n",
       "</style>\n",
       "<table border=\"1\" class=\"dataframe\">\n",
       "  <thead>\n",
       "    <tr style=\"text-align: right;\">\n",
       "      <th></th>\n",
       "      <th>pid</th>\n",
       "      <th>AUC EVE</th>\n",
       "    </tr>\n",
       "  </thead>\n",
       "  <tbody>\n",
       "    <tr>\n",
       "      <th>0</th>\n",
       "      <td>FBN1_HUMAN</td>\n",
       "      <td>0.928438</td>\n",
       "    </tr>\n",
       "    <tr>\n",
       "      <th>1</th>\n",
       "      <td>LDLR_HUMAN</td>\n",
       "      <td>0.985042</td>\n",
       "    </tr>\n",
       "    <tr>\n",
       "      <th>2</th>\n",
       "      <td>SCN1A_HUMAN</td>\n",
       "      <td>0.950460</td>\n",
       "    </tr>\n",
       "    <tr>\n",
       "      <th>3</th>\n",
       "      <td>BRCA1_HUMAN</td>\n",
       "      <td>0.960608</td>\n",
       "    </tr>\n",
       "    <tr>\n",
       "      <th>4</th>\n",
       "      <td>TSC2_HUMAN</td>\n",
       "      <td>0.906929</td>\n",
       "    </tr>\n",
       "    <tr>\n",
       "      <th>...</th>\n",
       "      <td>...</td>\n",
       "      <td>...</td>\n",
       "    </tr>\n",
       "    <tr>\n",
       "      <th>349</th>\n",
       "      <td>KCNV2_HUMAN</td>\n",
       "      <td>1.000000</td>\n",
       "    </tr>\n",
       "    <tr>\n",
       "      <th>350</th>\n",
       "      <td>SERA_HUMAN</td>\n",
       "      <td>0.666667</td>\n",
       "    </tr>\n",
       "    <tr>\n",
       "      <th>351</th>\n",
       "      <td>ACTN2_HUMAN</td>\n",
       "      <td>1.000000</td>\n",
       "    </tr>\n",
       "    <tr>\n",
       "      <th>352</th>\n",
       "      <td>ANTR2_HUMAN</td>\n",
       "      <td>0.933333</td>\n",
       "    </tr>\n",
       "    <tr>\n",
       "      <th>353</th>\n",
       "      <td>ALS2_HUMAN</td>\n",
       "      <td>0.920000</td>\n",
       "    </tr>\n",
       "  </tbody>\n",
       "</table>\n",
       "<p>354 rows × 2 columns</p>\n",
       "</div>"
      ],
      "text/plain": [
       "             pid   AUC EVE\n",
       "0     FBN1_HUMAN  0.928438\n",
       "1     LDLR_HUMAN  0.985042\n",
       "2    SCN1A_HUMAN  0.950460\n",
       "3    BRCA1_HUMAN  0.960608\n",
       "4     TSC2_HUMAN  0.906929\n",
       "..           ...       ...\n",
       "349  KCNV2_HUMAN  1.000000\n",
       "350   SERA_HUMAN  0.666667\n",
       "351  ACTN2_HUMAN  1.000000\n",
       "352  ANTR2_HUMAN  0.933333\n",
       "353   ALS2_HUMAN  0.920000\n",
       "\n",
       "[354 rows x 2 columns]"
      ]
     },
     "execution_count": 47,
     "metadata": {},
     "output_type": "execute_result"
    }
   ],
   "source": [
    "AUC = pd.read_excel ('AUC.xlsx')\n",
    "AUC= AUC.iloc[:,[0,2]] \n",
    "index=[]\n",
    "for i in range(len(AUC)): \n",
    "    if AUC['pid'][i] in g_names:\n",
    "        index.append(i)\n",
    "AUC = AUC.iloc[index, :]\n",
    "AUC.index = [i for i in range(len(AUC))]\n",
    "AUC = AUC.rename(columns={\"AUC\": 'AUC EVE'})\n",
    "AUC"
   ]
  },
  {
   "cell_type": "code",
   "execution_count": 48,
   "id": "52451bbc",
   "metadata": {},
   "outputs": [],
   "source": [
    "AUC_IND = {}\n",
    "for gene in g_names: \n",
    "    df = mutation[mutation['gene name']==gene]\n",
    "    AUC_IND[gene] = sklearn.metrics.roc_auc_score(list(df['ClinVar']), list(df['score']))"
   ]
  },
  {
   "cell_type": "code",
   "execution_count": 50,
   "id": "16851607",
   "metadata": {},
   "outputs": [],
   "source": [
    "Model_AUC = []\n",
    "for gene in AUC['pid'].unique(): \n",
    "    Model_AUC.append(AUC_IND[gene])"
   ]
  },
  {
   "cell_type": "code",
   "execution_count": 52,
   "id": "7a067361",
   "metadata": {},
   "outputs": [],
   "source": [
    "AUC.insert(2, 'AUC ind model', Model_AUC)"
   ]
  },
  {
   "cell_type": "code",
   "execution_count": 53,
   "id": "27a230fe",
   "metadata": {},
   "outputs": [
    {
     "data": {
      "text/html": [
       "<div>\n",
       "<style scoped>\n",
       "    .dataframe tbody tr th:only-of-type {\n",
       "        vertical-align: middle;\n",
       "    }\n",
       "\n",
       "    .dataframe tbody tr th {\n",
       "        vertical-align: top;\n",
       "    }\n",
       "\n",
       "    .dataframe thead th {\n",
       "        text-align: right;\n",
       "    }\n",
       "</style>\n",
       "<table border=\"1\" class=\"dataframe\">\n",
       "  <thead>\n",
       "    <tr style=\"text-align: right;\">\n",
       "      <th></th>\n",
       "      <th>pid</th>\n",
       "      <th>AUC EVE</th>\n",
       "      <th>AUC ind model</th>\n",
       "    </tr>\n",
       "  </thead>\n",
       "  <tbody>\n",
       "    <tr>\n",
       "      <th>0</th>\n",
       "      <td>FBN1_HUMAN</td>\n",
       "      <td>0.928438</td>\n",
       "      <td>0.832513</td>\n",
       "    </tr>\n",
       "    <tr>\n",
       "      <th>1</th>\n",
       "      <td>LDLR_HUMAN</td>\n",
       "      <td>0.985042</td>\n",
       "      <td>0.961285</td>\n",
       "    </tr>\n",
       "    <tr>\n",
       "      <th>2</th>\n",
       "      <td>SCN1A_HUMAN</td>\n",
       "      <td>0.950460</td>\n",
       "      <td>0.951563</td>\n",
       "    </tr>\n",
       "    <tr>\n",
       "      <th>3</th>\n",
       "      <td>BRCA1_HUMAN</td>\n",
       "      <td>0.960608</td>\n",
       "      <td>0.934275</td>\n",
       "    </tr>\n",
       "    <tr>\n",
       "      <th>4</th>\n",
       "      <td>TSC2_HUMAN</td>\n",
       "      <td>0.906929</td>\n",
       "      <td>0.918342</td>\n",
       "    </tr>\n",
       "    <tr>\n",
       "      <th>...</th>\n",
       "      <td>...</td>\n",
       "      <td>...</td>\n",
       "      <td>...</td>\n",
       "    </tr>\n",
       "    <tr>\n",
       "      <th>349</th>\n",
       "      <td>KCNV2_HUMAN</td>\n",
       "      <td>1.000000</td>\n",
       "      <td>1.000000</td>\n",
       "    </tr>\n",
       "    <tr>\n",
       "      <th>350</th>\n",
       "      <td>SERA_HUMAN</td>\n",
       "      <td>0.666667</td>\n",
       "      <td>0.733333</td>\n",
       "    </tr>\n",
       "    <tr>\n",
       "      <th>351</th>\n",
       "      <td>ACTN2_HUMAN</td>\n",
       "      <td>1.000000</td>\n",
       "      <td>1.000000</td>\n",
       "    </tr>\n",
       "    <tr>\n",
       "      <th>352</th>\n",
       "      <td>ANTR2_HUMAN</td>\n",
       "      <td>0.933333</td>\n",
       "      <td>0.966667</td>\n",
       "    </tr>\n",
       "    <tr>\n",
       "      <th>353</th>\n",
       "      <td>ALS2_HUMAN</td>\n",
       "      <td>0.920000</td>\n",
       "      <td>0.760000</td>\n",
       "    </tr>\n",
       "  </tbody>\n",
       "</table>\n",
       "<p>354 rows × 3 columns</p>\n",
       "</div>"
      ],
      "text/plain": [
       "             pid   AUC EVE  AUC ind model\n",
       "0     FBN1_HUMAN  0.928438       0.832513\n",
       "1     LDLR_HUMAN  0.985042       0.961285\n",
       "2    SCN1A_HUMAN  0.950460       0.951563\n",
       "3    BRCA1_HUMAN  0.960608       0.934275\n",
       "4     TSC2_HUMAN  0.906929       0.918342\n",
       "..           ...       ...            ...\n",
       "349  KCNV2_HUMAN  1.000000       1.000000\n",
       "350   SERA_HUMAN  0.666667       0.733333\n",
       "351  ACTN2_HUMAN  1.000000       1.000000\n",
       "352  ANTR2_HUMAN  0.933333       0.966667\n",
       "353   ALS2_HUMAN  0.920000       0.760000\n",
       "\n",
       "[354 rows x 3 columns]"
      ]
     },
     "execution_count": 53,
     "metadata": {},
     "output_type": "execute_result"
    }
   ],
   "source": [
    "AUC"
   ]
  },
  {
   "cell_type": "code",
   "execution_count": 134,
   "id": "17cf02f2",
   "metadata": {},
   "outputs": [
    {
     "data": {
      "text/html": [
       "<div>\n",
       "<style scoped>\n",
       "    .dataframe tbody tr th:only-of-type {\n",
       "        vertical-align: middle;\n",
       "    }\n",
       "\n",
       "    .dataframe tbody tr th {\n",
       "        vertical-align: top;\n",
       "    }\n",
       "\n",
       "    .dataframe thead th {\n",
       "        text-align: right;\n",
       "    }\n",
       "</style>\n",
       "<table border=\"1\" class=\"dataframe\">\n",
       "  <thead>\n",
       "    <tr style=\"text-align: right;\">\n",
       "      <th></th>\n",
       "      <th>pid</th>\n",
       "      <th>AUC EVE</th>\n",
       "      <th>AUC ind model</th>\n",
       "    </tr>\n",
       "  </thead>\n",
       "  <tbody>\n",
       "    <tr>\n",
       "      <th>2</th>\n",
       "      <td>SCN1A_HUMAN</td>\n",
       "      <td>0.950460</td>\n",
       "      <td>0.951563</td>\n",
       "    </tr>\n",
       "    <tr>\n",
       "      <th>4</th>\n",
       "      <td>TSC2_HUMAN</td>\n",
       "      <td>0.906929</td>\n",
       "      <td>0.918342</td>\n",
       "    </tr>\n",
       "    <tr>\n",
       "      <th>5</th>\n",
       "      <td>MYH7_HUMAN</td>\n",
       "      <td>0.837767</td>\n",
       "      <td>0.875848</td>\n",
       "    </tr>\n",
       "    <tr>\n",
       "      <th>7</th>\n",
       "      <td>BRCA2_HUMAN</td>\n",
       "      <td>0.905280</td>\n",
       "      <td>0.937888</td>\n",
       "    </tr>\n",
       "    <tr>\n",
       "      <th>11</th>\n",
       "      <td>CO1A1_HUMAN</td>\n",
       "      <td>0.993375</td>\n",
       "      <td>0.995583</td>\n",
       "    </tr>\n",
       "    <tr>\n",
       "      <th>...</th>\n",
       "      <td>...</td>\n",
       "      <td>...</td>\n",
       "      <td>...</td>\n",
       "    </tr>\n",
       "    <tr>\n",
       "      <th>348</th>\n",
       "      <td>GPAA1_HUMAN</td>\n",
       "      <td>0.866667</td>\n",
       "      <td>1.000000</td>\n",
       "    </tr>\n",
       "    <tr>\n",
       "      <th>349</th>\n",
       "      <td>KCNV2_HUMAN</td>\n",
       "      <td>1.000000</td>\n",
       "      <td>1.000000</td>\n",
       "    </tr>\n",
       "    <tr>\n",
       "      <th>350</th>\n",
       "      <td>SERA_HUMAN</td>\n",
       "      <td>0.666667</td>\n",
       "      <td>0.733333</td>\n",
       "    </tr>\n",
       "    <tr>\n",
       "      <th>351</th>\n",
       "      <td>ACTN2_HUMAN</td>\n",
       "      <td>1.000000</td>\n",
       "      <td>1.000000</td>\n",
       "    </tr>\n",
       "    <tr>\n",
       "      <th>352</th>\n",
       "      <td>ANTR2_HUMAN</td>\n",
       "      <td>0.933333</td>\n",
       "      <td>0.966667</td>\n",
       "    </tr>\n",
       "  </tbody>\n",
       "</table>\n",
       "<p>161 rows × 3 columns</p>\n",
       "</div>"
      ],
      "text/plain": [
       "             pid   AUC EVE  AUC ind model\n",
       "2    SCN1A_HUMAN  0.950460       0.951563\n",
       "4     TSC2_HUMAN  0.906929       0.918342\n",
       "5     MYH7_HUMAN  0.837767       0.875848\n",
       "7    BRCA2_HUMAN  0.905280       0.937888\n",
       "11   CO1A1_HUMAN  0.993375       0.995583\n",
       "..           ...       ...            ...\n",
       "348  GPAA1_HUMAN  0.866667       1.000000\n",
       "349  KCNV2_HUMAN  1.000000       1.000000\n",
       "350   SERA_HUMAN  0.666667       0.733333\n",
       "351  ACTN2_HUMAN  1.000000       1.000000\n",
       "352  ANTR2_HUMAN  0.933333       0.966667\n",
       "\n",
       "[161 rows x 3 columns]"
      ]
     },
     "execution_count": 134,
     "metadata": {},
     "output_type": "execute_result"
    }
   ],
   "source": [
    "AUC[AUC['AUC ind model']>=AUC['AUC EVE']]"
   ]
  },
  {
   "cell_type": "code",
   "execution_count": 54,
   "id": "919da919",
   "metadata": {},
   "outputs": [
    {
     "data": {
      "text/plain": [
       "0.4548022598870056"
      ]
     },
     "execution_count": 54,
     "metadata": {},
     "output_type": "execute_result"
    }
   ],
   "source": [
    "161/354"
   ]
  },
  {
   "cell_type": "code",
   "execution_count": 55,
   "id": "dc477381",
   "metadata": {},
   "outputs": [
    {
     "data": {
      "text/html": [
       "<div>\n",
       "<style scoped>\n",
       "    .dataframe tbody tr th:only-of-type {\n",
       "        vertical-align: middle;\n",
       "    }\n",
       "\n",
       "    .dataframe tbody tr th {\n",
       "        vertical-align: top;\n",
       "    }\n",
       "\n",
       "    .dataframe thead th {\n",
       "        text-align: right;\n",
       "    }\n",
       "</style>\n",
       "<table border=\"1\" class=\"dataframe\">\n",
       "  <thead>\n",
       "    <tr style=\"text-align: right;\">\n",
       "      <th></th>\n",
       "      <th>pid</th>\n",
       "      <th>AUC EVE</th>\n",
       "      <th>AUC ind model</th>\n",
       "    </tr>\n",
       "  </thead>\n",
       "  <tbody>\n",
       "    <tr>\n",
       "      <th>2</th>\n",
       "      <td>SCN1A_HUMAN</td>\n",
       "      <td>0.950460</td>\n",
       "      <td>0.951563</td>\n",
       "    </tr>\n",
       "    <tr>\n",
       "      <th>4</th>\n",
       "      <td>TSC2_HUMAN</td>\n",
       "      <td>0.906929</td>\n",
       "      <td>0.918342</td>\n",
       "    </tr>\n",
       "    <tr>\n",
       "      <th>5</th>\n",
       "      <td>MYH7_HUMAN</td>\n",
       "      <td>0.837767</td>\n",
       "      <td>0.875848</td>\n",
       "    </tr>\n",
       "    <tr>\n",
       "      <th>7</th>\n",
       "      <td>BRCA2_HUMAN</td>\n",
       "      <td>0.905280</td>\n",
       "      <td>0.937888</td>\n",
       "    </tr>\n",
       "    <tr>\n",
       "      <th>11</th>\n",
       "      <td>CO1A1_HUMAN</td>\n",
       "      <td>0.993375</td>\n",
       "      <td>0.995583</td>\n",
       "    </tr>\n",
       "    <tr>\n",
       "      <th>...</th>\n",
       "      <td>...</td>\n",
       "      <td>...</td>\n",
       "      <td>...</td>\n",
       "    </tr>\n",
       "    <tr>\n",
       "      <th>339</th>\n",
       "      <td>KDM6A_HUMAN</td>\n",
       "      <td>0.857143</td>\n",
       "      <td>0.857143</td>\n",
       "    </tr>\n",
       "    <tr>\n",
       "      <th>344</th>\n",
       "      <td>USP9X_HUMAN</td>\n",
       "      <td>0.942857</td>\n",
       "      <td>1.000000</td>\n",
       "    </tr>\n",
       "    <tr>\n",
       "      <th>348</th>\n",
       "      <td>GPAA1_HUMAN</td>\n",
       "      <td>0.866667</td>\n",
       "      <td>1.000000</td>\n",
       "    </tr>\n",
       "    <tr>\n",
       "      <th>350</th>\n",
       "      <td>SERA_HUMAN</td>\n",
       "      <td>0.666667</td>\n",
       "      <td>0.733333</td>\n",
       "    </tr>\n",
       "    <tr>\n",
       "      <th>352</th>\n",
       "      <td>ANTR2_HUMAN</td>\n",
       "      <td>0.933333</td>\n",
       "      <td>0.966667</td>\n",
       "    </tr>\n",
       "  </tbody>\n",
       "</table>\n",
       "<p>130 rows × 3 columns</p>\n",
       "</div>"
      ],
      "text/plain": [
       "             pid   AUC EVE  AUC ind model\n",
       "2    SCN1A_HUMAN  0.950460       0.951563\n",
       "4     TSC2_HUMAN  0.906929       0.918342\n",
       "5     MYH7_HUMAN  0.837767       0.875848\n",
       "7    BRCA2_HUMAN  0.905280       0.937888\n",
       "11   CO1A1_HUMAN  0.993375       0.995583\n",
       "..           ...       ...            ...\n",
       "339  KDM6A_HUMAN  0.857143       0.857143\n",
       "344  USP9X_HUMAN  0.942857       1.000000\n",
       "348  GPAA1_HUMAN  0.866667       1.000000\n",
       "350   SERA_HUMAN  0.666667       0.733333\n",
       "352  ANTR2_HUMAN  0.933333       0.966667\n",
       "\n",
       "[130 rows x 3 columns]"
      ]
     },
     "execution_count": 55,
     "metadata": {},
     "output_type": "execute_result"
    }
   ],
   "source": [
    "AUC[AUC['AUC ind model']>AUC['AUC EVE']]"
   ]
  },
  {
   "cell_type": "code",
   "execution_count": 56,
   "id": "d4d5cf89",
   "metadata": {},
   "outputs": [
    {
     "data": {
      "text/plain": [
       "0.3672316384180791"
      ]
     },
     "execution_count": 56,
     "metadata": {},
     "output_type": "execute_result"
    }
   ],
   "source": [
    "130/354"
   ]
  },
  {
   "cell_type": "code",
   "execution_count": 57,
   "id": "53b91e2d",
   "metadata": {},
   "outputs": [
    {
     "data": {
      "text/plain": [
       "0.907901036988976"
      ]
     },
     "execution_count": 57,
     "metadata": {},
     "output_type": "execute_result"
    }
   ],
   "source": [
    "AUC['AUC ind model'].mean()"
   ]
  },
  {
   "cell_type": "code",
   "execution_count": 58,
   "id": "aea88bab",
   "metadata": {},
   "outputs": [
    {
     "data": {
      "text/plain": [
       "0.9235499975395428"
      ]
     },
     "execution_count": 58,
     "metadata": {},
     "output_type": "execute_result"
    }
   ],
   "source": [
    "AUC['AUC EVE'].mean()"
   ]
  },
  {
   "cell_type": "code",
   "execution_count": 59,
   "id": "3b65847b",
   "metadata": {},
   "outputs": [],
   "source": [
    "AUC_EVE_DiFF = AUC[AUC['AUC ind model'] < AUC['AUC EVE']]['AUC EVE']"
   ]
  },
  {
   "cell_type": "code",
   "execution_count": 60,
   "id": "91d1bde0",
   "metadata": {},
   "outputs": [],
   "source": [
    "AUC_ind_diff = AUC[AUC['AUC ind model'] < AUC['AUC EVE']]['AUC ind model']"
   ]
  },
  {
   "cell_type": "code",
   "execution_count": 61,
   "id": "44f2564a",
   "metadata": {},
   "outputs": [
    {
     "data": {
      "text/plain": [
       "0.3166666666666661"
      ]
     },
     "execution_count": 61,
     "metadata": {},
     "output_type": "execute_result"
    }
   ],
   "source": [
    "(AUC_EVE_DiFF - AUC_ind_diff).max()"
   ]
  },
  {
   "cell_type": "code",
   "execution_count": 62,
   "id": "2075d940",
   "metadata": {},
   "outputs": [],
   "source": [
    "AUC.insert(3, 'Difference', AUC['AUC ind model'] - AUC['AUC EVE'])"
   ]
  },
  {
   "cell_type": "code",
   "execution_count": 63,
   "id": "7ea0a8cd",
   "metadata": {},
   "outputs": [
    {
     "data": {
      "text/html": [
       "<div>\n",
       "<style scoped>\n",
       "    .dataframe tbody tr th:only-of-type {\n",
       "        vertical-align: middle;\n",
       "    }\n",
       "\n",
       "    .dataframe tbody tr th {\n",
       "        vertical-align: top;\n",
       "    }\n",
       "\n",
       "    .dataframe thead th {\n",
       "        text-align: right;\n",
       "    }\n",
       "</style>\n",
       "<table border=\"1\" class=\"dataframe\">\n",
       "  <thead>\n",
       "    <tr style=\"text-align: right;\">\n",
       "      <th></th>\n",
       "      <th>pid</th>\n",
       "      <th>AUC EVE</th>\n",
       "      <th>AUC ind model</th>\n",
       "      <th>Difference</th>\n",
       "    </tr>\n",
       "  </thead>\n",
       "  <tbody>\n",
       "    <tr>\n",
       "      <th>278</th>\n",
       "      <td>RPC2_HUMAN</td>\n",
       "      <td>0.866667</td>\n",
       "      <td>0.55</td>\n",
       "      <td>-0.316667</td>\n",
       "    </tr>\n",
       "  </tbody>\n",
       "</table>\n",
       "</div>"
      ],
      "text/plain": [
       "            pid   AUC EVE  AUC ind model  Difference\n",
       "278  RPC2_HUMAN  0.866667           0.55   -0.316667"
      ]
     },
     "execution_count": 63,
     "metadata": {},
     "output_type": "execute_result"
    }
   ],
   "source": [
    "AUC[AUC['Difference'] == AUC['Difference'].min()]"
   ]
  },
  {
   "cell_type": "code",
   "execution_count": 64,
   "id": "87a35ef1",
   "metadata": {
    "scrolled": true
   },
   "outputs": [
    {
     "data": {
      "text/plain": [
       "354"
      ]
     },
     "execution_count": 64,
     "metadata": {},
     "output_type": "execute_result"
    }
   ],
   "source": [
    "len(AUC[AUC['AUC ind model']>0.5])"
   ]
  },
  {
   "cell_type": "markdown",
   "id": "a5798fa8",
   "metadata": {},
   "source": [
    "Every AUC is greater than 0.5"
   ]
  },
  {
   "cell_type": "code",
   "execution_count": 65,
   "id": "3b904e6b",
   "metadata": {},
   "outputs": [
    {
     "data": {
      "text/plain": [
       "0.054383332005366825"
      ]
     },
     "execution_count": 65,
     "metadata": {},
     "output_type": "execute_result"
    }
   ],
   "source": [
    "abs(AUC[AUC['Difference']<0]['Difference']).mean()"
   ]
  },
  {
   "cell_type": "code",
   "execution_count": 66,
   "id": "0eb679e0",
   "metadata": {},
   "outputs": [
    {
     "data": {
      "text/plain": [
       "0.038125008016423594"
      ]
     },
     "execution_count": 66,
     "metadata": {},
     "output_type": "execute_result"
    }
   ],
   "source": [
    "abs(AUC[AUC['Difference']>0]['Difference']).mean()"
   ]
  },
  {
   "cell_type": "code",
   "execution_count": 67,
   "id": "333b30df",
   "metadata": {},
   "outputs": [
    {
     "data": {
      "text/html": [
       "<div>\n",
       "<style scoped>\n",
       "    .dataframe tbody tr th:only-of-type {\n",
       "        vertical-align: middle;\n",
       "    }\n",
       "\n",
       "    .dataframe tbody tr th {\n",
       "        vertical-align: top;\n",
       "    }\n",
       "\n",
       "    .dataframe thead th {\n",
       "        text-align: right;\n",
       "    }\n",
       "</style>\n",
       "<table border=\"1\" class=\"dataframe\">\n",
       "  <thead>\n",
       "    <tr style=\"text-align: right;\">\n",
       "      <th></th>\n",
       "      <th>pid</th>\n",
       "      <th>AUC EVE</th>\n",
       "      <th>AUC ind model</th>\n",
       "      <th>Difference</th>\n",
       "    </tr>\n",
       "  </thead>\n",
       "  <tbody>\n",
       "    <tr>\n",
       "      <th>17</th>\n",
       "      <td>CFTR_HUMAN</td>\n",
       "      <td>0.683559</td>\n",
       "      <td>0.851351</td>\n",
       "      <td>0.167793</td>\n",
       "    </tr>\n",
       "  </tbody>\n",
       "</table>\n",
       "</div>"
      ],
      "text/plain": [
       "           pid   AUC EVE  AUC ind model  Difference\n",
       "17  CFTR_HUMAN  0.683559       0.851351    0.167793"
      ]
     },
     "execution_count": 67,
     "metadata": {},
     "output_type": "execute_result"
    }
   ],
   "source": [
    "AUC[AUC['Difference'] == AUC['Difference'].max()]"
   ]
  },
  {
   "cell_type": "markdown",
   "id": "db35f203",
   "metadata": {},
   "source": [
    "Print the ROC curve for CFTR_HUMAN"
   ]
  },
  {
   "cell_type": "code",
   "execution_count": 68,
   "id": "0f61481a",
   "metadata": {},
   "outputs": [],
   "source": [
    "prova = mutation[mutation['gene name'] == 'CFTR_HUMAN']"
   ]
  },
  {
   "cell_type": "code",
   "execution_count": 69,
   "id": "d8ed3863",
   "metadata": {},
   "outputs": [],
   "source": [
    "ls_fpr, ls_tpr, _ = sklearn.metrics.roc_curve(prova['ClinVar'], prova['score'], pos_label = 'pathogenic')\n",
    "ns_probs = [0 for _ in range(len(prova))]\n",
    "ns_fpr, ns_tpr, _ = sklearn.metrics.roc_curve(prova['ClinVar'], ns_probs, pos_label = 'pathogenic')\n",
    "cs_fpr, cs_tpr, _ = sklearn.metrics.roc_curve(prova['ClinVar'], prova['EVEscore'], pos_label = 'pathogenic')"
   ]
  },
  {
   "cell_type": "code",
   "execution_count": 70,
   "id": "d18c4572",
   "metadata": {},
   "outputs": [
    {
     "data": {
      "image/png": "[encoded data removed]",
      "text/plain": [
       "<Figure size 432x288 with 1 Axes>"
      ]
     },
     "metadata": {
      "needs_background": "light"
     },
     "output_type": "display_data"
    }
   ],
   "source": [
    "plt.plot(ls_fpr, ls_tpr, marker='.', label='CFTR_HUMAN')\n",
    "plt.plot(ns_fpr, ns_tpr, linestyle='--', label='No Skill')\n",
    "plt.xlabel('False Positive Rate')\n",
    "plt.ylabel('True Positive Rate')\n",
    "plt.legend()\n",
    "# show the plot\n",
    "plt.show()"
   ]
  },
  {
   "cell_type": "code",
   "execution_count": 71,
   "id": "9950e052",
   "metadata": {},
   "outputs": [
    {
     "data": {
      "image/png": "[encoded data removed]",
      "text/plain": [
       "<Figure size 432x288 with 1 Axes>"
      ]
     },
     "metadata": {
      "needs_background": "light"
     },
     "output_type": "display_data"
    }
   ],
   "source": [
    "plt.plot(cs_fpr, cs_tpr, marker='.', label='CFTR_HUMAN EVE')\n",
    "plt.plot(ns_fpr, ns_tpr, linestyle='--', label='No Skill')\n",
    "plt.xlabel('False Positive Rate')\n",
    "plt.ylabel('True Positive Rate')\n",
    "plt.legend()\n",
    "# show the plot\n",
    "plt.show()"
   ]
  },
  {
   "cell_type": "markdown",
   "id": "3c07ce46",
   "metadata": {},
   "source": [
    "### DATA VISUALIZATION"
   ]
  },
  {
   "cell_type": "code",
   "execution_count": 73,
   "id": "0dc9ccb3",
   "metadata": {},
   "outputs": [],
   "source": [
    "length_2 = []\n",
    "for i in range(len(AUC)): \n",
    "    length_2.append(length[AUC['pid'][i]])"
   ]
  },
  {
   "cell_type": "code",
   "execution_count": 74,
   "id": "114e3bc1",
   "metadata": {},
   "outputs": [],
   "source": [
    "AUC_for_visual2= AUC"
   ]
  },
  {
   "cell_type": "code",
   "execution_count": 75,
   "id": "eae98af2",
   "metadata": {},
   "outputs": [],
   "source": [
    "AUC_for_visual2.insert(3, 'length', length_2)\n",
    "AUC_for_visual2=AUC_for_visual2.sort_values('length')\n",
    "AUC_for_visual2.index = [i for i in range(len(AUC))]"
   ]
  },
  {
   "cell_type": "code",
   "execution_count": 76,
   "id": "dde88756",
   "metadata": {},
   "outputs": [
    {
     "data": {
      "text/html": [
       "<div>\n",
       "<style scoped>\n",
       "    .dataframe tbody tr th:only-of-type {\n",
       "        vertical-align: middle;\n",
       "    }\n",
       "\n",
       "    .dataframe tbody tr th {\n",
       "        vertical-align: top;\n",
       "    }\n",
       "\n",
       "    .dataframe thead th {\n",
       "        text-align: right;\n",
       "    }\n",
       "</style>\n",
       "<table border=\"1\" class=\"dataframe\">\n",
       "  <thead>\n",
       "    <tr style=\"text-align: right;\">\n",
       "      <th></th>\n",
       "      <th>pid</th>\n",
       "      <th>AUC EVE</th>\n",
       "      <th>AUC ind model</th>\n",
       "      <th>length</th>\n",
       "      <th>Difference</th>\n",
       "    </tr>\n",
       "  </thead>\n",
       "  <tbody>\n",
       "    <tr>\n",
       "      <th>0</th>\n",
       "      <td>RP1_HUMAN</td>\n",
       "      <td>0.957143</td>\n",
       "      <td>0.928571</td>\n",
       "      <td>245</td>\n",
       "      <td>-0.028571</td>\n",
       "    </tr>\n",
       "    <tr>\n",
       "      <th>1</th>\n",
       "      <td>BBS10_HUMAN</td>\n",
       "      <td>0.892857</td>\n",
       "      <td>0.940476</td>\n",
       "      <td>256</td>\n",
       "      <td>0.047619</td>\n",
       "    </tr>\n",
       "    <tr>\n",
       "      <th>2</th>\n",
       "      <td>INF2_HUMAN</td>\n",
       "      <td>0.893678</td>\n",
       "      <td>0.916667</td>\n",
       "      <td>273</td>\n",
       "      <td>0.022989</td>\n",
       "    </tr>\n",
       "    <tr>\n",
       "      <th>3</th>\n",
       "      <td>KMT2B_HUMAN</td>\n",
       "      <td>1.000000</td>\n",
       "      <td>1.000000</td>\n",
       "      <td>328</td>\n",
       "      <td>0.000000</td>\n",
       "    </tr>\n",
       "    <tr>\n",
       "      <th>4</th>\n",
       "      <td>DESP_HUMAN</td>\n",
       "      <td>0.821429</td>\n",
       "      <td>0.921429</td>\n",
       "      <td>338</td>\n",
       "      <td>0.100000</td>\n",
       "    </tr>\n",
       "    <tr>\n",
       "      <th>...</th>\n",
       "      <td>...</td>\n",
       "      <td>...</td>\n",
       "      <td>...</td>\n",
       "      <td>...</td>\n",
       "      <td>...</td>\n",
       "    </tr>\n",
       "    <tr>\n",
       "      <th>349</th>\n",
       "      <td>SYNM_HUMAN</td>\n",
       "      <td>0.972222</td>\n",
       "      <td>0.944444</td>\n",
       "      <td>124543</td>\n",
       "      <td>-0.027778</td>\n",
       "    </tr>\n",
       "    <tr>\n",
       "      <th>350</th>\n",
       "      <td>ARSB_HUMAN</td>\n",
       "      <td>0.866667</td>\n",
       "      <td>0.810256</td>\n",
       "      <td>129144</td>\n",
       "      <td>-0.056410</td>\n",
       "    </tr>\n",
       "    <tr>\n",
       "      <th>351</th>\n",
       "      <td>TRY1_HUMAN</td>\n",
       "      <td>0.729167</td>\n",
       "      <td>0.604167</td>\n",
       "      <td>135477</td>\n",
       "      <td>-0.125000</td>\n",
       "    </tr>\n",
       "    <tr>\n",
       "      <th>352</th>\n",
       "      <td>GALNS_HUMAN</td>\n",
       "      <td>0.819728</td>\n",
       "      <td>0.670068</td>\n",
       "      <td>138058</td>\n",
       "      <td>-0.149660</td>\n",
       "    </tr>\n",
       "    <tr>\n",
       "      <th>353</th>\n",
       "      <td>GTR1_HUMAN</td>\n",
       "      <td>0.966038</td>\n",
       "      <td>0.856604</td>\n",
       "      <td>212042</td>\n",
       "      <td>-0.109434</td>\n",
       "    </tr>\n",
       "  </tbody>\n",
       "</table>\n",
       "<p>354 rows × 5 columns</p>\n",
       "</div>"
      ],
      "text/plain": [
       "             pid   AUC EVE  AUC ind model  length  Difference\n",
       "0      RP1_HUMAN  0.957143       0.928571     245   -0.028571\n",
       "1    BBS10_HUMAN  0.892857       0.940476     256    0.047619\n",
       "2     INF2_HUMAN  0.893678       0.916667     273    0.022989\n",
       "3    KMT2B_HUMAN  1.000000       1.000000     328    0.000000\n",
       "4     DESP_HUMAN  0.821429       0.921429     338    0.100000\n",
       "..           ...       ...            ...     ...         ...\n",
       "349   SYNM_HUMAN  0.972222       0.944444  124543   -0.027778\n",
       "350   ARSB_HUMAN  0.866667       0.810256  129144   -0.056410\n",
       "351   TRY1_HUMAN  0.729167       0.604167  135477   -0.125000\n",
       "352  GALNS_HUMAN  0.819728       0.670068  138058   -0.149660\n",
       "353   GTR1_HUMAN  0.966038       0.856604  212042   -0.109434\n",
       "\n",
       "[354 rows x 5 columns]"
      ]
     },
     "execution_count": 76,
     "metadata": {},
     "output_type": "execute_result"
    }
   ],
   "source": [
    "AUC_for_visual2"
   ]
  },
  {
   "cell_type": "code",
   "execution_count": 77,
   "id": "deccbd63",
   "metadata": {},
   "outputs": [],
   "source": [
    "prova4 = AUC_for_visual2[AUC_for_visual2['length']<1000]"
   ]
  },
  {
   "cell_type": "code",
   "execution_count": 78,
   "id": "5d16cd95",
   "metadata": {},
   "outputs": [
    {
     "data": {
      "text/plain": [
       "29"
      ]
     },
     "execution_count": 78,
     "metadata": {},
     "output_type": "execute_result"
    }
   ],
   "source": [
    "len(prova4[prova4['AUC EVE']<=prova4['AUC ind model']])"
   ]
  },
  {
   "cell_type": "code",
   "execution_count": 79,
   "id": "ed733b4c",
   "metadata": {},
   "outputs": [
    {
     "data": {
      "text/plain": [
       "49"
      ]
     },
     "execution_count": 79,
     "metadata": {},
     "output_type": "execute_result"
    }
   ],
   "source": [
    "len(prova4)"
   ]
  },
  {
   "cell_type": "code",
   "execution_count": 80,
   "id": "5760c3e4",
   "metadata": {},
   "outputs": [
    {
     "data": {
      "text/plain": [
       "0.5348837209302325"
      ]
     },
     "execution_count": 80,
     "metadata": {},
     "output_type": "execute_result"
    }
   ],
   "source": [
    "69/129"
   ]
  },
  {
   "cell_type": "code",
   "execution_count": 82,
   "id": "8eb008b3",
   "metadata": {},
   "outputs": [],
   "source": [
    "mutation.to_excel(r'scores.xlsx', index = False)"
   ]
  },
  {
   "cell_type": "markdown",
   "id": "7c465d89",
   "metadata": {},
   "source": [
    "## SPEARMAN CORRELATION"
   ]
  },
  {
   "cell_type": "code",
   "execution_count": 83,
   "id": "3ab1f596",
   "metadata": {},
   "outputs": [],
   "source": [
    "spearman_correlation = {}\n",
    "for gene in g_names: \n",
    "    df = mutation[mutation['gene name'] == gene]\n",
    "    a, b = stats.spearmanr(df['EVEscore'], df['score'])\n",
    "    spearman_correlation[gene] = a"
   ]
  },
  {
   "cell_type": "code",
   "execution_count": 85,
   "id": "84523055",
   "metadata": {},
   "outputs": [],
   "source": [
    "spearman_corr_to_insert=[]\n",
    "for i in range(len(AUC)):\n",
    "    spearman_corr_to_insert.append(spearman_correlation[AUC['pid'][i]])"
   ]
  },
  {
   "cell_type": "code",
   "execution_count": 86,
   "id": "ce6a782d",
   "metadata": {},
   "outputs": [],
   "source": [
    "AUC_for_visual3= AUC"
   ]
  },
  {
   "cell_type": "code",
   "execution_count": 87,
   "id": "6209e114",
   "metadata": {},
   "outputs": [],
   "source": [
    "AUC_for_visual3.insert(5, 'spearman correlation', spearman_corr_to_insert)"
   ]
  },
  {
   "cell_type": "code",
   "execution_count": 88,
   "id": "9a09a4b8",
   "metadata": {},
   "outputs": [
    {
     "data": {
      "text/html": [
       "<div>\n",
       "<style scoped>\n",
       "    .dataframe tbody tr th:only-of-type {\n",
       "        vertical-align: middle;\n",
       "    }\n",
       "\n",
       "    .dataframe tbody tr th {\n",
       "        vertical-align: top;\n",
       "    }\n",
       "\n",
       "    .dataframe thead th {\n",
       "        text-align: right;\n",
       "    }\n",
       "</style>\n",
       "<table border=\"1\" class=\"dataframe\">\n",
       "  <thead>\n",
       "    <tr style=\"text-align: right;\">\n",
       "      <th></th>\n",
       "      <th>pid</th>\n",
       "      <th>AUC EVE</th>\n",
       "      <th>AUC ind model</th>\n",
       "      <th>length</th>\n",
       "      <th>Difference</th>\n",
       "      <th>spearman correlation</th>\n",
       "    </tr>\n",
       "  </thead>\n",
       "  <tbody>\n",
       "    <tr>\n",
       "      <th>326</th>\n",
       "      <td>S52A3_HUMAN</td>\n",
       "      <td>1.000000</td>\n",
       "      <td>1.000000</td>\n",
       "      <td>1826</td>\n",
       "      <td>0.000000</td>\n",
       "      <td>0.991209</td>\n",
       "    </tr>\n",
       "    <tr>\n",
       "      <th>291</th>\n",
       "      <td>ITPR1_HUMAN</td>\n",
       "      <td>1.000000</td>\n",
       "      <td>1.000000</td>\n",
       "      <td>4716</td>\n",
       "      <td>0.000000</td>\n",
       "      <td>0.985294</td>\n",
       "    </tr>\n",
       "    <tr>\n",
       "      <th>338</th>\n",
       "      <td>CRX_HUMAN</td>\n",
       "      <td>1.000000</td>\n",
       "      <td>1.000000</td>\n",
       "      <td>1593</td>\n",
       "      <td>0.000000</td>\n",
       "      <td>0.984240</td>\n",
       "    </tr>\n",
       "    <tr>\n",
       "      <th>204</th>\n",
       "      <td>GARS_HUMAN</td>\n",
       "      <td>0.828125</td>\n",
       "      <td>0.789062</td>\n",
       "      <td>2545</td>\n",
       "      <td>-0.039062</td>\n",
       "      <td>0.983451</td>\n",
       "    </tr>\n",
       "    <tr>\n",
       "      <th>347</th>\n",
       "      <td>PCY1A_HUMAN</td>\n",
       "      <td>1.000000</td>\n",
       "      <td>1.000000</td>\n",
       "      <td>3122</td>\n",
       "      <td>0.000000</td>\n",
       "      <td>0.979021</td>\n",
       "    </tr>\n",
       "    <tr>\n",
       "      <th>...</th>\n",
       "      <td>...</td>\n",
       "      <td>...</td>\n",
       "      <td>...</td>\n",
       "      <td>...</td>\n",
       "      <td>...</td>\n",
       "      <td>...</td>\n",
       "    </tr>\n",
       "    <tr>\n",
       "      <th>44</th>\n",
       "      <td>BRCA1_BRCT_HUMAN</td>\n",
       "      <td>0.973354</td>\n",
       "      <td>0.710031</td>\n",
       "      <td>3257</td>\n",
       "      <td>-0.263323</td>\n",
       "      <td>0.321755</td>\n",
       "    </tr>\n",
       "    <tr>\n",
       "      <th>11</th>\n",
       "      <td>CO1A1_HUMAN</td>\n",
       "      <td>0.993375</td>\n",
       "      <td>0.995583</td>\n",
       "      <td>2501</td>\n",
       "      <td>0.002208</td>\n",
       "      <td>0.316943</td>\n",
       "    </tr>\n",
       "    <tr>\n",
       "      <th>0</th>\n",
       "      <td>FBN1_HUMAN</td>\n",
       "      <td>0.928438</td>\n",
       "      <td>0.832513</td>\n",
       "      <td>1926</td>\n",
       "      <td>-0.095925</td>\n",
       "      <td>0.289918</td>\n",
       "    </tr>\n",
       "    <tr>\n",
       "      <th>12</th>\n",
       "      <td>CO3A1_HUMAN</td>\n",
       "      <td>0.995890</td>\n",
       "      <td>0.987671</td>\n",
       "      <td>2498</td>\n",
       "      <td>-0.008219</td>\n",
       "      <td>0.272755</td>\n",
       "    </tr>\n",
       "    <tr>\n",
       "      <th>63</th>\n",
       "      <td>ABCC8_HUMAN</td>\n",
       "      <td>0.686404</td>\n",
       "      <td>0.673246</td>\n",
       "      <td>2602</td>\n",
       "      <td>-0.013158</td>\n",
       "      <td>0.143005</td>\n",
       "    </tr>\n",
       "  </tbody>\n",
       "</table>\n",
       "<p>354 rows × 6 columns</p>\n",
       "</div>"
      ],
      "text/plain": [
       "                  pid   AUC EVE  AUC ind model  length  Difference  \\\n",
       "326       S52A3_HUMAN  1.000000       1.000000    1826    0.000000   \n",
       "291       ITPR1_HUMAN  1.000000       1.000000    4716    0.000000   \n",
       "338         CRX_HUMAN  1.000000       1.000000    1593    0.000000   \n",
       "204        GARS_HUMAN  0.828125       0.789062    2545   -0.039062   \n",
       "347       PCY1A_HUMAN  1.000000       1.000000    3122    0.000000   \n",
       "..                ...       ...            ...     ...         ...   \n",
       "44   BRCA1_BRCT_HUMAN  0.973354       0.710031    3257   -0.263323   \n",
       "11        CO1A1_HUMAN  0.993375       0.995583    2501    0.002208   \n",
       "0          FBN1_HUMAN  0.928438       0.832513    1926   -0.095925   \n",
       "12        CO3A1_HUMAN  0.995890       0.987671    2498   -0.008219   \n",
       "63        ABCC8_HUMAN  0.686404       0.673246    2602   -0.013158   \n",
       "\n",
       "     spearman correlation  \n",
       "326              0.991209  \n",
       "291              0.985294  \n",
       "338              0.984240  \n",
       "204              0.983451  \n",
       "347              0.979021  \n",
       "..                    ...  \n",
       "44               0.321755  \n",
       "11               0.316943  \n",
       "0                0.289918  \n",
       "12               0.272755  \n",
       "63               0.143005  \n",
       "\n",
       "[354 rows x 6 columns]"
      ]
     },
     "execution_count": 88,
     "metadata": {},
     "output_type": "execute_result"
    }
   ],
   "source": [
    "AUC_for_visual3.sort_values('spearman correlation', ascending = False)"
   ]
  },
  {
   "cell_type": "markdown",
   "id": "6022dc64",
   "metadata": {},
   "source": [
    "Highest spearman correlation are for genes S52A3_HUMAN and ITPR1_HUMAN"
   ]
  },
  {
   "cell_type": "code",
   "execution_count": 89,
   "id": "017e2c4a",
   "metadata": {},
   "outputs": [],
   "source": [
    "mutation[mutation['gene name'] == 'S52A3_HUMAN'].to_excel(r'S52A3_HUMAN_sp.xlsx', index = False)"
   ]
  },
  {
   "cell_type": "markdown",
   "id": "56ae6987",
   "metadata": {},
   "source": [
    "mutation[mutation['gene name'] == 'ITPR1_HUMAN'].to_excel(r'ITPR1_HUMAN_sp.xlsx', index = False)"
   ]
  },
  {
   "cell_type": "code",
   "execution_count": 90,
   "id": "e41aa6cb",
   "metadata": {},
   "outputs": [],
   "source": [
    "AUC_for_visual3 = AUC_for_visual3.sort_values('length')"
   ]
  },
  {
   "cell_type": "code",
   "execution_count": 91,
   "id": "9f88a54c",
   "metadata": {},
   "outputs": [
    {
     "data": {
      "text/html": [
       "<div>\n",
       "<style scoped>\n",
       "    .dataframe tbody tr th:only-of-type {\n",
       "        vertical-align: middle;\n",
       "    }\n",
       "\n",
       "    .dataframe tbody tr th {\n",
       "        vertical-align: top;\n",
       "    }\n",
       "\n",
       "    .dataframe thead th {\n",
       "        text-align: right;\n",
       "    }\n",
       "</style>\n",
       "<table border=\"1\" class=\"dataframe\">\n",
       "  <thead>\n",
       "    <tr style=\"text-align: right;\">\n",
       "      <th></th>\n",
       "      <th>pid</th>\n",
       "      <th>AUC EVE</th>\n",
       "      <th>AUC ind model</th>\n",
       "      <th>length</th>\n",
       "      <th>Difference</th>\n",
       "      <th>spearman correlation</th>\n",
       "    </tr>\n",
       "  </thead>\n",
       "  <tbody>\n",
       "    <tr>\n",
       "      <th>253</th>\n",
       "      <td>RP1_HUMAN</td>\n",
       "      <td>0.957143</td>\n",
       "      <td>0.928571</td>\n",
       "      <td>245</td>\n",
       "      <td>-0.028571</td>\n",
       "      <td>0.910526</td>\n",
       "    </tr>\n",
       "    <tr>\n",
       "      <th>256</th>\n",
       "      <td>BBS10_HUMAN</td>\n",
       "      <td>0.892857</td>\n",
       "      <td>0.940476</td>\n",
       "      <td>256</td>\n",
       "      <td>0.047619</td>\n",
       "      <td>0.833699</td>\n",
       "    </tr>\n",
       "    <tr>\n",
       "      <th>117</th>\n",
       "      <td>INF2_HUMAN</td>\n",
       "      <td>0.893678</td>\n",
       "      <td>0.916667</td>\n",
       "      <td>273</td>\n",
       "      <td>0.022989</td>\n",
       "      <td>0.886362</td>\n",
       "    </tr>\n",
       "    <tr>\n",
       "      <th>240</th>\n",
       "      <td>KMT2B_HUMAN</td>\n",
       "      <td>1.000000</td>\n",
       "      <td>1.000000</td>\n",
       "      <td>328</td>\n",
       "      <td>0.000000</td>\n",
       "      <td>0.858329</td>\n",
       "    </tr>\n",
       "    <tr>\n",
       "      <th>129</th>\n",
       "      <td>DESP_HUMAN</td>\n",
       "      <td>0.821429</td>\n",
       "      <td>0.921429</td>\n",
       "      <td>338</td>\n",
       "      <td>0.100000</td>\n",
       "      <td>0.742626</td>\n",
       "    </tr>\n",
       "    <tr>\n",
       "      <th>...</th>\n",
       "      <td>...</td>\n",
       "      <td>...</td>\n",
       "      <td>...</td>\n",
       "      <td>...</td>\n",
       "      <td>...</td>\n",
       "      <td>...</td>\n",
       "    </tr>\n",
       "    <tr>\n",
       "      <th>341</th>\n",
       "      <td>SYNM_HUMAN</td>\n",
       "      <td>0.972222</td>\n",
       "      <td>0.944444</td>\n",
       "      <td>124543</td>\n",
       "      <td>-0.027778</td>\n",
       "      <td>0.923077</td>\n",
       "    </tr>\n",
       "    <tr>\n",
       "      <th>112</th>\n",
       "      <td>ARSB_HUMAN</td>\n",
       "      <td>0.866667</td>\n",
       "      <td>0.810256</td>\n",
       "      <td>129144</td>\n",
       "      <td>-0.056410</td>\n",
       "      <td>0.848767</td>\n",
       "    </tr>\n",
       "    <tr>\n",
       "      <th>322</th>\n",
       "      <td>TRY1_HUMAN</td>\n",
       "      <td>0.729167</td>\n",
       "      <td>0.604167</td>\n",
       "      <td>135477</td>\n",
       "      <td>-0.125000</td>\n",
       "      <td>0.762637</td>\n",
       "    </tr>\n",
       "    <tr>\n",
       "      <th>99</th>\n",
       "      <td>GALNS_HUMAN</td>\n",
       "      <td>0.819728</td>\n",
       "      <td>0.670068</td>\n",
       "      <td>138058</td>\n",
       "      <td>-0.149660</td>\n",
       "      <td>0.851531</td>\n",
       "    </tr>\n",
       "    <tr>\n",
       "      <th>80</th>\n",
       "      <td>GTR1_HUMAN</td>\n",
       "      <td>0.966038</td>\n",
       "      <td>0.856604</td>\n",
       "      <td>212042</td>\n",
       "      <td>-0.109434</td>\n",
       "      <td>0.752499</td>\n",
       "    </tr>\n",
       "  </tbody>\n",
       "</table>\n",
       "<p>354 rows × 6 columns</p>\n",
       "</div>"
      ],
      "text/plain": [
       "             pid   AUC EVE  AUC ind model  length  Difference  \\\n",
       "253    RP1_HUMAN  0.957143       0.928571     245   -0.028571   \n",
       "256  BBS10_HUMAN  0.892857       0.940476     256    0.047619   \n",
       "117   INF2_HUMAN  0.893678       0.916667     273    0.022989   \n",
       "240  KMT2B_HUMAN  1.000000       1.000000     328    0.000000   \n",
       "129   DESP_HUMAN  0.821429       0.921429     338    0.100000   \n",
       "..           ...       ...            ...     ...         ...   \n",
       "341   SYNM_HUMAN  0.972222       0.944444  124543   -0.027778   \n",
       "112   ARSB_HUMAN  0.866667       0.810256  129144   -0.056410   \n",
       "322   TRY1_HUMAN  0.729167       0.604167  135477   -0.125000   \n",
       "99   GALNS_HUMAN  0.819728       0.670068  138058   -0.149660   \n",
       "80    GTR1_HUMAN  0.966038       0.856604  212042   -0.109434   \n",
       "\n",
       "     spearman correlation  \n",
       "253              0.910526  \n",
       "256              0.833699  \n",
       "117              0.886362  \n",
       "240              0.858329  \n",
       "129              0.742626  \n",
       "..                    ...  \n",
       "341              0.923077  \n",
       "112              0.848767  \n",
       "322              0.762637  \n",
       "99               0.851531  \n",
       "80               0.752499  \n",
       "\n",
       "[354 rows x 6 columns]"
      ]
     },
     "execution_count": 91,
     "metadata": {},
     "output_type": "execute_result"
    }
   ],
   "source": [
    "AUC_for_visual3"
   ]
  },
  {
   "cell_type": "code",
   "execution_count": 92,
   "id": "6654f2cb",
   "metadata": {},
   "outputs": [
    {
     "data": {
      "text/plain": [
       "0.8289147003745907"
      ]
     },
     "execution_count": 92,
     "metadata": {},
     "output_type": "execute_result"
    }
   ],
   "source": [
    "AUC_for_visual3['spearman correlation'].mean()"
   ]
  },
  {
   "cell_type": "code",
   "execution_count": 93,
   "id": "11a34e0a",
   "metadata": {},
   "outputs": [
    {
     "data": {
      "text/html": [
       "<div>\n",
       "<style scoped>\n",
       "    .dataframe tbody tr th:only-of-type {\n",
       "        vertical-align: middle;\n",
       "    }\n",
       "\n",
       "    .dataframe tbody tr th {\n",
       "        vertical-align: top;\n",
       "    }\n",
       "\n",
       "    .dataframe thead th {\n",
       "        text-align: right;\n",
       "    }\n",
       "</style>\n",
       "<table border=\"1\" class=\"dataframe\">\n",
       "  <thead>\n",
       "    <tr style=\"text-align: right;\">\n",
       "      <th></th>\n",
       "      <th>pid</th>\n",
       "      <th>AUC EVE</th>\n",
       "      <th>AUC ind model</th>\n",
       "      <th>length</th>\n",
       "      <th>Difference</th>\n",
       "      <th>spearman correlation</th>\n",
       "    </tr>\n",
       "  </thead>\n",
       "  <tbody>\n",
       "    <tr>\n",
       "      <th>253</th>\n",
       "      <td>RP1_HUMAN</td>\n",
       "      <td>0.957143</td>\n",
       "      <td>0.928571</td>\n",
       "      <td>245</td>\n",
       "      <td>-0.028571</td>\n",
       "      <td>0.910526</td>\n",
       "    </tr>\n",
       "    <tr>\n",
       "      <th>256</th>\n",
       "      <td>BBS10_HUMAN</td>\n",
       "      <td>0.892857</td>\n",
       "      <td>0.940476</td>\n",
       "      <td>256</td>\n",
       "      <td>0.047619</td>\n",
       "      <td>0.833699</td>\n",
       "    </tr>\n",
       "    <tr>\n",
       "      <th>117</th>\n",
       "      <td>INF2_HUMAN</td>\n",
       "      <td>0.893678</td>\n",
       "      <td>0.916667</td>\n",
       "      <td>273</td>\n",
       "      <td>0.022989</td>\n",
       "      <td>0.886362</td>\n",
       "    </tr>\n",
       "    <tr>\n",
       "      <th>240</th>\n",
       "      <td>KMT2B_HUMAN</td>\n",
       "      <td>1.000000</td>\n",
       "      <td>1.000000</td>\n",
       "      <td>328</td>\n",
       "      <td>0.000000</td>\n",
       "      <td>0.858329</td>\n",
       "    </tr>\n",
       "    <tr>\n",
       "      <th>129</th>\n",
       "      <td>DESP_HUMAN</td>\n",
       "      <td>0.821429</td>\n",
       "      <td>0.921429</td>\n",
       "      <td>338</td>\n",
       "      <td>0.100000</td>\n",
       "      <td>0.742626</td>\n",
       "    </tr>\n",
       "    <tr>\n",
       "      <th>...</th>\n",
       "      <td>...</td>\n",
       "      <td>...</td>\n",
       "      <td>...</td>\n",
       "      <td>...</td>\n",
       "      <td>...</td>\n",
       "      <td>...</td>\n",
       "    </tr>\n",
       "    <tr>\n",
       "      <th>341</th>\n",
       "      <td>SYNM_HUMAN</td>\n",
       "      <td>0.972222</td>\n",
       "      <td>0.944444</td>\n",
       "      <td>124543</td>\n",
       "      <td>-0.027778</td>\n",
       "      <td>0.923077</td>\n",
       "    </tr>\n",
       "    <tr>\n",
       "      <th>112</th>\n",
       "      <td>ARSB_HUMAN</td>\n",
       "      <td>0.866667</td>\n",
       "      <td>0.810256</td>\n",
       "      <td>129144</td>\n",
       "      <td>-0.056410</td>\n",
       "      <td>0.848767</td>\n",
       "    </tr>\n",
       "    <tr>\n",
       "      <th>322</th>\n",
       "      <td>TRY1_HUMAN</td>\n",
       "      <td>0.729167</td>\n",
       "      <td>0.604167</td>\n",
       "      <td>135477</td>\n",
       "      <td>-0.125000</td>\n",
       "      <td>0.762637</td>\n",
       "    </tr>\n",
       "    <tr>\n",
       "      <th>99</th>\n",
       "      <td>GALNS_HUMAN</td>\n",
       "      <td>0.819728</td>\n",
       "      <td>0.670068</td>\n",
       "      <td>138058</td>\n",
       "      <td>-0.149660</td>\n",
       "      <td>0.851531</td>\n",
       "    </tr>\n",
       "    <tr>\n",
       "      <th>80</th>\n",
       "      <td>GTR1_HUMAN</td>\n",
       "      <td>0.966038</td>\n",
       "      <td>0.856604</td>\n",
       "      <td>212042</td>\n",
       "      <td>-0.109434</td>\n",
       "      <td>0.752499</td>\n",
       "    </tr>\n",
       "  </tbody>\n",
       "</table>\n",
       "<p>341 rows × 6 columns</p>\n",
       "</div>"
      ],
      "text/plain": [
       "             pid   AUC EVE  AUC ind model  length  Difference  \\\n",
       "253    RP1_HUMAN  0.957143       0.928571     245   -0.028571   \n",
       "256  BBS10_HUMAN  0.892857       0.940476     256    0.047619   \n",
       "117   INF2_HUMAN  0.893678       0.916667     273    0.022989   \n",
       "240  KMT2B_HUMAN  1.000000       1.000000     328    0.000000   \n",
       "129   DESP_HUMAN  0.821429       0.921429     338    0.100000   \n",
       "..           ...       ...            ...     ...         ...   \n",
       "341   SYNM_HUMAN  0.972222       0.944444  124543   -0.027778   \n",
       "112   ARSB_HUMAN  0.866667       0.810256  129144   -0.056410   \n",
       "322   TRY1_HUMAN  0.729167       0.604167  135477   -0.125000   \n",
       "99   GALNS_HUMAN  0.819728       0.670068  138058   -0.149660   \n",
       "80    GTR1_HUMAN  0.966038       0.856604  212042   -0.109434   \n",
       "\n",
       "     spearman correlation  \n",
       "253              0.910526  \n",
       "256              0.833699  \n",
       "117              0.886362  \n",
       "240              0.858329  \n",
       "129              0.742626  \n",
       "..                    ...  \n",
       "341              0.923077  \n",
       "112              0.848767  \n",
       "322              0.762637  \n",
       "99               0.851531  \n",
       "80               0.752499  \n",
       "\n",
       "[341 rows x 6 columns]"
      ]
     },
     "execution_count": 93,
     "metadata": {},
     "output_type": "execute_result"
    }
   ],
   "source": [
    "AUC_for_visual3[AUC_for_visual3['spearman correlation']>0.5]"
   ]
  },
  {
   "cell_type": "code",
   "execution_count": 94,
   "id": "c5204be8",
   "metadata": {},
   "outputs": [],
   "source": [
    "AUC_for_visual3.to_excel(r'length_sp.xlsx', index = False)"
   ]
  },
  {
   "cell_type": "markdown",
   "id": "9e88cc06",
   "metadata": {},
   "source": [
    "## NEW SCORE"
   ]
  },
  {
   "cell_type": "markdown",
   "id": "50cd2cd9",
   "metadata": {},
   "source": [
    "Scaling axis "
   ]
  },
  {
   "cell_type": "code",
   "execution_count": 95,
   "id": "92ceccc0",
   "metadata": {},
   "outputs": [],
   "source": [
    "scaler = MinMaxScaler()\n",
    "scaler.fit(mutation[['score']])\n",
    "score_scaled = scaler.transform(mutation[['score']])"
   ]
  },
  {
   "cell_type": "code",
   "execution_count": 96,
   "id": "d1808ebc",
   "metadata": {},
   "outputs": [
    {
     "data": {
      "text/plain": [
       "0.9981170150349336"
      ]
     },
     "execution_count": 96,
     "metadata": {},
     "output_type": "execute_result"
    }
   ],
   "source": [
    "score_scaled[0][0]"
   ]
  },
  {
   "cell_type": "code",
   "execution_count": 185,
   "id": "8332cbfa",
   "metadata": {},
   "outputs": [],
   "source": [
    "alphas = np.arange(0,1.1,0.1)"
   ]
  },
  {
   "cell_type": "code",
   "execution_count": 198,
   "id": "c62f0aa2",
   "metadata": {},
   "outputs": [],
   "source": [
    "AUC_alphas = []\n",
    "for i in range(len(alphas)): \n",
    "    a = alphas[i]\n",
    "    new_score = []\n",
    "    mutation_fake = mutation.drop('score combined', axis = 1)\n",
    "    AUC_to_be = {}\n",
    "    for i in range(len(mutation)): \n",
    "        new_score.append(a*score_scaled[i][0]+(1-a)*EVE_score_sc[i])\n",
    "    \n",
    "    mutation_fake.insert(8, 'score combined', new_score)\n",
    "    for gene in g_names: \n",
    "        df = mutation_fake[mutation_fake['gene name']==gene]\n",
    "        AUC_to_be[gene] = sklearn.metrics.roc_auc_score(list(df['ClinVar']), list(df['score combined']))\n",
    "    AUC_alphas.append(np.array(list(AUC_to_be.values())).mean())"
   ]
  },
  {
   "cell_type": "code",
   "execution_count": 199,
   "id": "030b2e12",
   "metadata": {},
   "outputs": [
    {
     "data": {
      "text/plain": [
       "[0.9235499975395438,\n",
       " 0.9260816280168959,\n",
       " 0.9281474002459891,\n",
       " 0.9277059127113685,\n",
       " 0.9280634107514345,\n",
       " 0.9270239676149457,\n",
       " 0.9266059089298548,\n",
       " 0.9241980926739901,\n",
       " 0.9205951338080923,\n",
       " 0.9156135998235277,\n",
       " 0.9079010369889763]"
      ]
     },
     "execution_count": 199,
     "metadata": {},
     "output_type": "execute_result"
    }
   ],
   "source": [
    "AUC_alphas"
   ]
  },
  {
   "cell_type": "code",
   "execution_count": 202,
   "id": "27fdda42",
   "metadata": {},
   "outputs": [
    {
     "data": {
      "text/plain": [
       "[0.0,\n",
       " 0.1,\n",
       " 0.2,\n",
       " 0.30000000000000004,\n",
       " 0.4,\n",
       " 0.5,\n",
       " 0.6000000000000001,\n",
       " 0.7000000000000001,\n",
       " 0.8,\n",
       " 0.9,\n",
       " 1.0]"
      ]
     },
     "execution_count": 202,
     "metadata": {},
     "output_type": "execute_result"
    }
   ],
   "source": [
    "list(alphas)"
   ]
  },
  {
   "cell_type": "code",
   "execution_count": 204,
   "id": "c5e5b998",
   "metadata": {},
   "outputs": [
    {
     "data": {
      "text/plain": [
       "0.9281474002459891"
      ]
     },
     "execution_count": 204,
     "metadata": {},
     "output_type": "execute_result"
    }
   ],
   "source": [
    "np.max(AUC_alphas)"
   ]
  },
  {
   "cell_type": "markdown",
   "id": "1aa11eb4",
   "metadata": {},
   "source": [
    "The max AUC is the one resulting from alpha = 0.2"
   ]
  },
  {
   "cell_type": "code",
   "execution_count": 97,
   "id": "419eccdb",
   "metadata": {},
   "outputs": [],
   "source": [
    "new_score = []\n",
    "EVE_score_sc = list(mutation['EVEscore'])\n",
    "a = 0.2\n",
    "for i in range(len(mutation)): \n",
    "    new_score.append(a*score_scaled[i][0]+(1-a)*EVE_score_sc[i])"
   ]
  },
  {
   "cell_type": "code",
   "execution_count": 99,
   "id": "4559f431",
   "metadata": {},
   "outputs": [],
   "source": [
    "mutation.insert(8, 'score combined', new_score)"
   ]
  },
  {
   "cell_type": "code",
   "execution_count": 100,
   "id": "55975996",
   "metadata": {},
   "outputs": [
    {
     "data": {
      "text/html": [
       "<div>\n",
       "<style scoped>\n",
       "    .dataframe tbody tr th:only-of-type {\n",
       "        vertical-align: middle;\n",
       "    }\n",
       "\n",
       "    .dataframe tbody tr th {\n",
       "        vertical-align: top;\n",
       "    }\n",
       "\n",
       "    .dataframe thead th {\n",
       "        text-align: right;\n",
       "    }\n",
       "</style>\n",
       "<table border=\"1\" class=\"dataframe\">\n",
       "  <thead>\n",
       "    <tr style=\"text-align: right;\">\n",
       "      <th></th>\n",
       "      <th>gene name</th>\n",
       "      <th>wt_aa</th>\n",
       "      <th>position</th>\n",
       "      <th>mt_aa</th>\n",
       "      <th>ClinVar</th>\n",
       "      <th>EVEscore</th>\n",
       "      <th>EVElabels</th>\n",
       "      <th>score</th>\n",
       "      <th>score combined</th>\n",
       "    </tr>\n",
       "  </thead>\n",
       "  <tbody>\n",
       "    <tr>\n",
       "      <th>0</th>\n",
       "      <td>3BP2_HUMAN</td>\n",
       "      <td>V</td>\n",
       "      <td>27</td>\n",
       "      <td>M</td>\n",
       "      <td>benign</td>\n",
       "      <td>0.630466</td>\n",
       "      <td>benign</td>\n",
       "      <td>12.218294</td>\n",
       "      <td>0.703996</td>\n",
       "    </tr>\n",
       "    <tr>\n",
       "      <th>1</th>\n",
       "      <td>3BP2_HUMAN</td>\n",
       "      <td>R</td>\n",
       "      <td>56</td>\n",
       "      <td>C</td>\n",
       "      <td>benign</td>\n",
       "      <td>0.151390</td>\n",
       "      <td>benign</td>\n",
       "      <td>5.746085</td>\n",
       "      <td>0.253908</td>\n",
       "    </tr>\n",
       "    <tr>\n",
       "      <th>2</th>\n",
       "      <td>3BP2_HUMAN</td>\n",
       "      <td>R</td>\n",
       "      <td>80</td>\n",
       "      <td>Q</td>\n",
       "      <td>benign</td>\n",
       "      <td>0.622594</td>\n",
       "      <td>benign</td>\n",
       "      <td>12.234506</td>\n",
       "      <td>0.697866</td>\n",
       "    </tr>\n",
       "    <tr>\n",
       "      <th>3</th>\n",
       "      <td>3BP2_HUMAN</td>\n",
       "      <td>H</td>\n",
       "      <td>100</td>\n",
       "      <td>R</td>\n",
       "      <td>benign</td>\n",
       "      <td>0.616032</td>\n",
       "      <td>benign</td>\n",
       "      <td>12.230111</td>\n",
       "      <td>0.692571</td>\n",
       "    </tr>\n",
       "    <tr>\n",
       "      <th>4</th>\n",
       "      <td>3BP2_HUMAN</td>\n",
       "      <td>A</td>\n",
       "      <td>155</td>\n",
       "      <td>V</td>\n",
       "      <td>benign</td>\n",
       "      <td>0.127663</td>\n",
       "      <td>benign</td>\n",
       "      <td>5.035303</td>\n",
       "      <td>0.227588</td>\n",
       "    </tr>\n",
       "    <tr>\n",
       "      <th>...</th>\n",
       "      <td>...</td>\n",
       "      <td>...</td>\n",
       "      <td>...</td>\n",
       "      <td>...</td>\n",
       "      <td>...</td>\n",
       "      <td>...</td>\n",
       "      <td>...</td>\n",
       "      <td>...</td>\n",
       "      <td>...</td>\n",
       "    </tr>\n",
       "    <tr>\n",
       "      <th>16668</th>\n",
       "      <td>ZEB2_HUMAN</td>\n",
       "      <td>L</td>\n",
       "      <td>1113</td>\n",
       "      <td>M</td>\n",
       "      <td>benign</td>\n",
       "      <td>0.729841</td>\n",
       "      <td>uncertain</td>\n",
       "      <td>6.193989</td>\n",
       "      <td>0.721294</td>\n",
       "    </tr>\n",
       "    <tr>\n",
       "      <th>16669</th>\n",
       "      <td>ZEB2_HUMAN</td>\n",
       "      <td>P</td>\n",
       "      <td>1118</td>\n",
       "      <td>H</td>\n",
       "      <td>benign</td>\n",
       "      <td>0.772766</td>\n",
       "      <td>uncertain</td>\n",
       "      <td>3.801105</td>\n",
       "      <td>0.730927</td>\n",
       "    </tr>\n",
       "    <tr>\n",
       "      <th>16670</th>\n",
       "      <td>ZEB2_HUMAN</td>\n",
       "      <td>L</td>\n",
       "      <td>1151</td>\n",
       "      <td>P</td>\n",
       "      <td>benign</td>\n",
       "      <td>0.373573</td>\n",
       "      <td>benign</td>\n",
       "      <td>6.935022</td>\n",
       "      <td>0.443931</td>\n",
       "    </tr>\n",
       "    <tr>\n",
       "      <th>16671</th>\n",
       "      <td>ZEB2_HUMAN</td>\n",
       "      <td>I</td>\n",
       "      <td>1179</td>\n",
       "      <td>T</td>\n",
       "      <td>benign</td>\n",
       "      <td>0.128273</td>\n",
       "      <td>benign</td>\n",
       "      <td>2.154461</td>\n",
       "      <td>0.198331</td>\n",
       "    </tr>\n",
       "    <tr>\n",
       "      <th>16672</th>\n",
       "      <td>ZEB2_HUMAN</td>\n",
       "      <td>H</td>\n",
       "      <td>1188</td>\n",
       "      <td>R</td>\n",
       "      <td>benign</td>\n",
       "      <td>0.317453</td>\n",
       "      <td>benign</td>\n",
       "      <td>3.010358</td>\n",
       "      <td>0.358512</td>\n",
       "    </tr>\n",
       "  </tbody>\n",
       "</table>\n",
       "<p>16673 rows × 9 columns</p>\n",
       "</div>"
      ],
      "text/plain": [
       "        gene name wt_aa  position mt_aa ClinVar  EVEscore  EVElabels  \\\n",
       "0      3BP2_HUMAN     V        27     M  benign  0.630466     benign   \n",
       "1      3BP2_HUMAN     R        56     C  benign  0.151390     benign   \n",
       "2      3BP2_HUMAN     R        80     Q  benign  0.622594     benign   \n",
       "3      3BP2_HUMAN     H       100     R  benign  0.616032     benign   \n",
       "4      3BP2_HUMAN     A       155     V  benign  0.127663     benign   \n",
       "...           ...   ...       ...   ...     ...       ...        ...   \n",
       "16668  ZEB2_HUMAN     L      1113     M  benign  0.729841  uncertain   \n",
       "16669  ZEB2_HUMAN     P      1118     H  benign  0.772766  uncertain   \n",
       "16670  ZEB2_HUMAN     L      1151     P  benign  0.373573     benign   \n",
       "16671  ZEB2_HUMAN     I      1179     T  benign  0.128273     benign   \n",
       "16672  ZEB2_HUMAN     H      1188     R  benign  0.317453     benign   \n",
       "\n",
       "           score  score combined  \n",
       "0      12.218294        0.703996  \n",
       "1       5.746085        0.253908  \n",
       "2      12.234506        0.697866  \n",
       "3      12.230111        0.692571  \n",
       "4       5.035303        0.227588  \n",
       "...          ...             ...  \n",
       "16668   6.193989        0.721294  \n",
       "16669   3.801105        0.730927  \n",
       "16670   6.935022        0.443931  \n",
       "16671   2.154461        0.198331  \n",
       "16672   3.010358        0.358512  \n",
       "\n",
       "[16673 rows x 9 columns]"
      ]
     },
     "execution_count": 100,
     "metadata": {},
     "output_type": "execute_result"
    }
   ],
   "source": [
    "mutation"
   ]
  },
  {
   "cell_type": "code",
   "execution_count": 101,
   "id": "a007ef01",
   "metadata": {},
   "outputs": [
    {
     "data": {
      "text/html": [
       "<div>\n",
       "<style scoped>\n",
       "    .dataframe tbody tr th:only-of-type {\n",
       "        vertical-align: middle;\n",
       "    }\n",
       "\n",
       "    .dataframe tbody tr th {\n",
       "        vertical-align: top;\n",
       "    }\n",
       "\n",
       "    .dataframe thead th {\n",
       "        text-align: right;\n",
       "    }\n",
       "</style>\n",
       "<table border=\"1\" class=\"dataframe\">\n",
       "  <thead>\n",
       "    <tr style=\"text-align: right;\">\n",
       "      <th></th>\n",
       "      <th>gene name</th>\n",
       "      <th>wt_aa</th>\n",
       "      <th>position</th>\n",
       "      <th>mt_aa</th>\n",
       "      <th>ClinVar</th>\n",
       "      <th>EVEscore</th>\n",
       "      <th>EVElabels</th>\n",
       "      <th>score</th>\n",
       "      <th>score combined</th>\n",
       "    </tr>\n",
       "  </thead>\n",
       "  <tbody>\n",
       "    <tr>\n",
       "      <th>706</th>\n",
       "      <td>ANR11_HUMAN</td>\n",
       "      <td>E</td>\n",
       "      <td>76</td>\n",
       "      <td>K</td>\n",
       "      <td>pathogenic</td>\n",
       "      <td>0.566919</td>\n",
       "      <td>pathogenic</td>\n",
       "      <td>6.055726</td>\n",
       "      <td>0.589529</td>\n",
       "    </tr>\n",
       "    <tr>\n",
       "      <th>707</th>\n",
       "      <td>ANR11_HUMAN</td>\n",
       "      <td>R</td>\n",
       "      <td>92</td>\n",
       "      <td>Q</td>\n",
       "      <td>benign</td>\n",
       "      <td>0.666204</td>\n",
       "      <td>uncertain</td>\n",
       "      <td>12.155189</td>\n",
       "      <td>0.731935</td>\n",
       "    </tr>\n",
       "    <tr>\n",
       "      <th>708</th>\n",
       "      <td>ANR11_HUMAN</td>\n",
       "      <td>A</td>\n",
       "      <td>94</td>\n",
       "      <td>P</td>\n",
       "      <td>benign</td>\n",
       "      <td>0.129773</td>\n",
       "      <td>benign</td>\n",
       "      <td>1.145397</td>\n",
       "      <td>0.189112</td>\n",
       "    </tr>\n",
       "    <tr>\n",
       "      <th>709</th>\n",
       "      <td>ANR11_HUMAN</td>\n",
       "      <td>G</td>\n",
       "      <td>101</td>\n",
       "      <td>R</td>\n",
       "      <td>benign</td>\n",
       "      <td>0.650686</td>\n",
       "      <td>uncertain</td>\n",
       "      <td>5.657998</td>\n",
       "      <td>0.652436</td>\n",
       "    </tr>\n",
       "    <tr>\n",
       "      <th>710</th>\n",
       "      <td>ANR11_HUMAN</td>\n",
       "      <td>N</td>\n",
       "      <td>130</td>\n",
       "      <td>S</td>\n",
       "      <td>benign</td>\n",
       "      <td>0.708480</td>\n",
       "      <td>uncertain</td>\n",
       "      <td>12.181888</td>\n",
       "      <td>0.766031</td>\n",
       "    </tr>\n",
       "    <tr>\n",
       "      <th>...</th>\n",
       "      <td>...</td>\n",
       "      <td>...</td>\n",
       "      <td>...</td>\n",
       "      <td>...</td>\n",
       "      <td>...</td>\n",
       "      <td>...</td>\n",
       "      <td>...</td>\n",
       "      <td>...</td>\n",
       "      <td>...</td>\n",
       "    </tr>\n",
       "    <tr>\n",
       "      <th>802</th>\n",
       "      <td>ANR11_HUMAN</td>\n",
       "      <td>R</td>\n",
       "      <td>2512</td>\n",
       "      <td>Q</td>\n",
       "      <td>pathogenic</td>\n",
       "      <td>0.709540</td>\n",
       "      <td>pathogenic</td>\n",
       "      <td>12.149289</td>\n",
       "      <td>0.766543</td>\n",
       "    </tr>\n",
       "    <tr>\n",
       "      <th>803</th>\n",
       "      <td>ANR11_HUMAN</td>\n",
       "      <td>R</td>\n",
       "      <td>2512</td>\n",
       "      <td>W</td>\n",
       "      <td>pathogenic</td>\n",
       "      <td>0.682973</td>\n",
       "      <td>pathogenic</td>\n",
       "      <td>12.149289</td>\n",
       "      <td>0.745289</td>\n",
       "    </tr>\n",
       "    <tr>\n",
       "      <th>804</th>\n",
       "      <td>ANR11_HUMAN</td>\n",
       "      <td>E</td>\n",
       "      <td>2524</td>\n",
       "      <td>G</td>\n",
       "      <td>pathogenic</td>\n",
       "      <td>0.623383</td>\n",
       "      <td>pathogenic</td>\n",
       "      <td>12.140971</td>\n",
       "      <td>0.697531</td>\n",
       "    </tr>\n",
       "    <tr>\n",
       "      <th>805</th>\n",
       "      <td>ANR11_HUMAN</td>\n",
       "      <td>M</td>\n",
       "      <td>2601</td>\n",
       "      <td>L</td>\n",
       "      <td>benign</td>\n",
       "      <td>0.660909</td>\n",
       "      <td>uncertain</td>\n",
       "      <td>12.131378</td>\n",
       "      <td>0.727454</td>\n",
       "    </tr>\n",
       "    <tr>\n",
       "      <th>806</th>\n",
       "      <td>ANR11_HUMAN</td>\n",
       "      <td>L</td>\n",
       "      <td>2605</td>\n",
       "      <td>R</td>\n",
       "      <td>pathogenic</td>\n",
       "      <td>0.561291</td>\n",
       "      <td>pathogenic</td>\n",
       "      <td>11.962462</td>\n",
       "      <td>0.646014</td>\n",
       "    </tr>\n",
       "  </tbody>\n",
       "</table>\n",
       "<p>101 rows × 9 columns</p>\n",
       "</div>"
      ],
      "text/plain": [
       "       gene name wt_aa  position mt_aa     ClinVar  EVEscore   EVElabels  \\\n",
       "706  ANR11_HUMAN     E        76     K  pathogenic  0.566919  pathogenic   \n",
       "707  ANR11_HUMAN     R        92     Q      benign  0.666204   uncertain   \n",
       "708  ANR11_HUMAN     A        94     P      benign  0.129773      benign   \n",
       "709  ANR11_HUMAN     G       101     R      benign  0.650686   uncertain   \n",
       "710  ANR11_HUMAN     N       130     S      benign  0.708480   uncertain   \n",
       "..           ...   ...       ...   ...         ...       ...         ...   \n",
       "802  ANR11_HUMAN     R      2512     Q  pathogenic  0.709540  pathogenic   \n",
       "803  ANR11_HUMAN     R      2512     W  pathogenic  0.682973  pathogenic   \n",
       "804  ANR11_HUMAN     E      2524     G  pathogenic  0.623383  pathogenic   \n",
       "805  ANR11_HUMAN     M      2601     L      benign  0.660909   uncertain   \n",
       "806  ANR11_HUMAN     L      2605     R  pathogenic  0.561291  pathogenic   \n",
       "\n",
       "         score  score combined  \n",
       "706   6.055726        0.589529  \n",
       "707  12.155189        0.731935  \n",
       "708   1.145397        0.189112  \n",
       "709   5.657998        0.652436  \n",
       "710  12.181888        0.766031  \n",
       "..         ...             ...  \n",
       "802  12.149289        0.766543  \n",
       "803  12.149289        0.745289  \n",
       "804  12.140971        0.697531  \n",
       "805  12.131378        0.727454  \n",
       "806  11.962462        0.646014  \n",
       "\n",
       "[101 rows x 9 columns]"
      ]
     },
     "execution_count": 101,
     "metadata": {},
     "output_type": "execute_result"
    }
   ],
   "source": [
    "mutation[mutation['gene name'] == 'ANR11_HUMAN']"
   ]
  },
  {
   "cell_type": "code",
   "execution_count": 102,
   "id": "80bad700",
   "metadata": {},
   "outputs": [],
   "source": [
    "mutation[mutation['gene name'] == 'ANR11_HUMAN'].to_excel(r'prova.xlsx', index = False)"
   ]
  },
  {
   "cell_type": "code",
   "execution_count": 214,
   "id": "fba436b0",
   "metadata": {},
   "outputs": [],
   "source": [
    "AUC_NEW = {}\n",
    "for gene in g_names: \n",
    "    df = mutation[mutation['gene name']==gene]\n",
    "    AUC_NEW[gene] = sklearn.metrics.roc_auc_score(list(df['ClinVar']), list(df['score combined']))"
   ]
  },
  {
   "cell_type": "code",
   "execution_count": 216,
   "id": "558cce39",
   "metadata": {},
   "outputs": [],
   "source": [
    "Combined_AUC = []\n",
    "for gene in AUC['pid'].unique(): \n",
    "    Combined_AUC.append(AUC_NEW[gene])"
   ]
  },
  {
   "cell_type": "code",
   "execution_count": 217,
   "id": "79f281d9",
   "metadata": {},
   "outputs": [],
   "source": [
    "AUC.insert(4, 'AUC combined', Combined_AUC)"
   ]
  },
  {
   "cell_type": "code",
   "execution_count": 218,
   "id": "e2e4280f",
   "metadata": {
    "scrolled": true
   },
   "outputs": [
    {
     "data": {
      "text/html": [
       "<div>\n",
       "<style scoped>\n",
       "    .dataframe tbody tr th:only-of-type {\n",
       "        vertical-align: middle;\n",
       "    }\n",
       "\n",
       "    .dataframe tbody tr th {\n",
       "        vertical-align: top;\n",
       "    }\n",
       "\n",
       "    .dataframe thead th {\n",
       "        text-align: right;\n",
       "    }\n",
       "</style>\n",
       "<table border=\"1\" class=\"dataframe\">\n",
       "  <thead>\n",
       "    <tr style=\"text-align: right;\">\n",
       "      <th></th>\n",
       "      <th>pid</th>\n",
       "      <th>AUC EVE</th>\n",
       "      <th>AUC ind model</th>\n",
       "      <th>length</th>\n",
       "      <th>AUC combined</th>\n",
       "      <th>Difference</th>\n",
       "      <th>spearman correlation</th>\n",
       "    </tr>\n",
       "  </thead>\n",
       "  <tbody>\n",
       "    <tr>\n",
       "      <th>0</th>\n",
       "      <td>FBN1_HUMAN</td>\n",
       "      <td>0.928438</td>\n",
       "      <td>0.832513</td>\n",
       "      <td>1926</td>\n",
       "      <td>0.917487</td>\n",
       "      <td>-0.095925</td>\n",
       "      <td>0.289918</td>\n",
       "    </tr>\n",
       "    <tr>\n",
       "      <th>1</th>\n",
       "      <td>LDLR_HUMAN</td>\n",
       "      <td>0.985042</td>\n",
       "      <td>0.961285</td>\n",
       "      <td>4048</td>\n",
       "      <td>0.984612</td>\n",
       "      <td>-0.023757</td>\n",
       "      <td>0.634232</td>\n",
       "    </tr>\n",
       "    <tr>\n",
       "      <th>2</th>\n",
       "      <td>SCN1A_HUMAN</td>\n",
       "      <td>0.950460</td>\n",
       "      <td>0.951563</td>\n",
       "      <td>10632</td>\n",
       "      <td>0.959141</td>\n",
       "      <td>0.001103</td>\n",
       "      <td>0.665427</td>\n",
       "    </tr>\n",
       "    <tr>\n",
       "      <th>3</th>\n",
       "      <td>BRCA1_HUMAN</td>\n",
       "      <td>0.960608</td>\n",
       "      <td>0.934275</td>\n",
       "      <td>920</td>\n",
       "      <td>0.958735</td>\n",
       "      <td>-0.026333</td>\n",
       "      <td>0.902503</td>\n",
       "    </tr>\n",
       "    <tr>\n",
       "      <th>4</th>\n",
       "      <td>TSC2_HUMAN</td>\n",
       "      <td>0.906929</td>\n",
       "      <td>0.918342</td>\n",
       "      <td>2621</td>\n",
       "      <td>0.912862</td>\n",
       "      <td>0.011413</td>\n",
       "      <td>0.852126</td>\n",
       "    </tr>\n",
       "    <tr>\n",
       "      <th>...</th>\n",
       "      <td>...</td>\n",
       "      <td>...</td>\n",
       "      <td>...</td>\n",
       "      <td>...</td>\n",
       "      <td>...</td>\n",
       "      <td>...</td>\n",
       "      <td>...</td>\n",
       "    </tr>\n",
       "    <tr>\n",
       "      <th>349</th>\n",
       "      <td>KCNV2_HUMAN</td>\n",
       "      <td>1.000000</td>\n",
       "      <td>1.000000</td>\n",
       "      <td>16175</td>\n",
       "      <td>1.000000</td>\n",
       "      <td>0.000000</td>\n",
       "      <td>0.936364</td>\n",
       "    </tr>\n",
       "    <tr>\n",
       "      <th>350</th>\n",
       "      <td>SERA_HUMAN</td>\n",
       "      <td>0.666667</td>\n",
       "      <td>0.733333</td>\n",
       "      <td>23579</td>\n",
       "      <td>0.700000</td>\n",
       "      <td>0.066667</td>\n",
       "      <td>0.881818</td>\n",
       "    </tr>\n",
       "    <tr>\n",
       "      <th>351</th>\n",
       "      <td>ACTN2_HUMAN</td>\n",
       "      <td>1.000000</td>\n",
       "      <td>1.000000</td>\n",
       "      <td>4668</td>\n",
       "      <td>1.000000</td>\n",
       "      <td>0.000000</td>\n",
       "      <td>0.818182</td>\n",
       "    </tr>\n",
       "    <tr>\n",
       "      <th>352</th>\n",
       "      <td>ANTR2_HUMAN</td>\n",
       "      <td>0.933333</td>\n",
       "      <td>0.966667</td>\n",
       "      <td>1805</td>\n",
       "      <td>1.000000</td>\n",
       "      <td>0.033333</td>\n",
       "      <td>0.751710</td>\n",
       "    </tr>\n",
       "    <tr>\n",
       "      <th>353</th>\n",
       "      <td>ALS2_HUMAN</td>\n",
       "      <td>0.920000</td>\n",
       "      <td>0.760000</td>\n",
       "      <td>1920</td>\n",
       "      <td>0.920000</td>\n",
       "      <td>-0.160000</td>\n",
       "      <td>0.890909</td>\n",
       "    </tr>\n",
       "  </tbody>\n",
       "</table>\n",
       "<p>354 rows × 7 columns</p>\n",
       "</div>"
      ],
      "text/plain": [
       "             pid   AUC EVE  AUC ind model  length  AUC combined  Difference  \\\n",
       "0     FBN1_HUMAN  0.928438       0.832513    1926      0.917487   -0.095925   \n",
       "1     LDLR_HUMAN  0.985042       0.961285    4048      0.984612   -0.023757   \n",
       "2    SCN1A_HUMAN  0.950460       0.951563   10632      0.959141    0.001103   \n",
       "3    BRCA1_HUMAN  0.960608       0.934275     920      0.958735   -0.026333   \n",
       "4     TSC2_HUMAN  0.906929       0.918342    2621      0.912862    0.011413   \n",
       "..           ...       ...            ...     ...           ...         ...   \n",
       "349  KCNV2_HUMAN  1.000000       1.000000   16175      1.000000    0.000000   \n",
       "350   SERA_HUMAN  0.666667       0.733333   23579      0.700000    0.066667   \n",
       "351  ACTN2_HUMAN  1.000000       1.000000    4668      1.000000    0.000000   \n",
       "352  ANTR2_HUMAN  0.933333       0.966667    1805      1.000000    0.033333   \n",
       "353   ALS2_HUMAN  0.920000       0.760000    1920      0.920000   -0.160000   \n",
       "\n",
       "     spearman correlation  \n",
       "0                0.289918  \n",
       "1                0.634232  \n",
       "2                0.665427  \n",
       "3                0.902503  \n",
       "4                0.852126  \n",
       "..                    ...  \n",
       "349              0.936364  \n",
       "350              0.881818  \n",
       "351              0.818182  \n",
       "352              0.751710  \n",
       "353              0.890909  \n",
       "\n",
       "[354 rows x 7 columns]"
      ]
     },
     "execution_count": 218,
     "metadata": {},
     "output_type": "execute_result"
    }
   ],
   "source": [
    "AUC"
   ]
  },
  {
   "cell_type": "code",
   "execution_count": 219,
   "id": "f9849ed6",
   "metadata": {},
   "outputs": [
    {
     "data": {
      "text/html": [
       "<div>\n",
       "<style scoped>\n",
       "    .dataframe tbody tr th:only-of-type {\n",
       "        vertical-align: middle;\n",
       "    }\n",
       "\n",
       "    .dataframe tbody tr th {\n",
       "        vertical-align: top;\n",
       "    }\n",
       "\n",
       "    .dataframe thead th {\n",
       "        text-align: right;\n",
       "    }\n",
       "</style>\n",
       "<table border=\"1\" class=\"dataframe\">\n",
       "  <thead>\n",
       "    <tr style=\"text-align: right;\">\n",
       "      <th></th>\n",
       "      <th>pid</th>\n",
       "      <th>AUC EVE</th>\n",
       "      <th>AUC ind model</th>\n",
       "      <th>length</th>\n",
       "      <th>AUC combined</th>\n",
       "      <th>Difference</th>\n",
       "      <th>spearman correlation</th>\n",
       "    </tr>\n",
       "  </thead>\n",
       "  <tbody>\n",
       "    <tr>\n",
       "      <th>2</th>\n",
       "      <td>SCN1A_HUMAN</td>\n",
       "      <td>0.950460</td>\n",
       "      <td>0.951563</td>\n",
       "      <td>10632</td>\n",
       "      <td>0.959141</td>\n",
       "      <td>0.001103</td>\n",
       "      <td>0.665427</td>\n",
       "    </tr>\n",
       "    <tr>\n",
       "      <th>4</th>\n",
       "      <td>TSC2_HUMAN</td>\n",
       "      <td>0.906929</td>\n",
       "      <td>0.918342</td>\n",
       "      <td>2621</td>\n",
       "      <td>0.912862</td>\n",
       "      <td>0.011413</td>\n",
       "      <td>0.852126</td>\n",
       "    </tr>\n",
       "    <tr>\n",
       "      <th>5</th>\n",
       "      <td>MYH7_HUMAN</td>\n",
       "      <td>0.837767</td>\n",
       "      <td>0.875848</td>\n",
       "      <td>18733</td>\n",
       "      <td>0.845070</td>\n",
       "      <td>0.038080</td>\n",
       "      <td>0.843678</td>\n",
       "    </tr>\n",
       "    <tr>\n",
       "      <th>6</th>\n",
       "      <td>ABCA4_HUMAN</td>\n",
       "      <td>0.957672</td>\n",
       "      <td>0.956349</td>\n",
       "      <td>5072</td>\n",
       "      <td>0.962081</td>\n",
       "      <td>-0.001323</td>\n",
       "      <td>0.821949</td>\n",
       "    </tr>\n",
       "    <tr>\n",
       "      <th>7</th>\n",
       "      <td>BRCA2_HUMAN</td>\n",
       "      <td>0.905280</td>\n",
       "      <td>0.937888</td>\n",
       "      <td>467</td>\n",
       "      <td>0.919908</td>\n",
       "      <td>0.032609</td>\n",
       "      <td>0.866626</td>\n",
       "    </tr>\n",
       "    <tr>\n",
       "      <th>...</th>\n",
       "      <td>...</td>\n",
       "      <td>...</td>\n",
       "      <td>...</td>\n",
       "      <td>...</td>\n",
       "      <td>...</td>\n",
       "      <td>...</td>\n",
       "      <td>...</td>\n",
       "    </tr>\n",
       "    <tr>\n",
       "      <th>345</th>\n",
       "      <td>MTO1_HUMAN</td>\n",
       "      <td>0.628571</td>\n",
       "      <td>0.585714</td>\n",
       "      <td>38234</td>\n",
       "      <td>0.628571</td>\n",
       "      <td>-0.042857</td>\n",
       "      <td>0.942208</td>\n",
       "    </tr>\n",
       "    <tr>\n",
       "      <th>348</th>\n",
       "      <td>GPAA1_HUMAN</td>\n",
       "      <td>0.866667</td>\n",
       "      <td>1.000000</td>\n",
       "      <td>2113</td>\n",
       "      <td>0.900000</td>\n",
       "      <td>0.133333</td>\n",
       "      <td>0.845455</td>\n",
       "    </tr>\n",
       "    <tr>\n",
       "      <th>350</th>\n",
       "      <td>SERA_HUMAN</td>\n",
       "      <td>0.666667</td>\n",
       "      <td>0.733333</td>\n",
       "      <td>23579</td>\n",
       "      <td>0.700000</td>\n",
       "      <td>0.066667</td>\n",
       "      <td>0.881818</td>\n",
       "    </tr>\n",
       "    <tr>\n",
       "      <th>352</th>\n",
       "      <td>ANTR2_HUMAN</td>\n",
       "      <td>0.933333</td>\n",
       "      <td>0.966667</td>\n",
       "      <td>1805</td>\n",
       "      <td>1.000000</td>\n",
       "      <td>0.033333</td>\n",
       "      <td>0.751710</td>\n",
       "    </tr>\n",
       "    <tr>\n",
       "      <th>353</th>\n",
       "      <td>ALS2_HUMAN</td>\n",
       "      <td>0.920000</td>\n",
       "      <td>0.760000</td>\n",
       "      <td>1920</td>\n",
       "      <td>0.920000</td>\n",
       "      <td>-0.160000</td>\n",
       "      <td>0.890909</td>\n",
       "    </tr>\n",
       "  </tbody>\n",
       "</table>\n",
       "<p>218 rows × 7 columns</p>\n",
       "</div>"
      ],
      "text/plain": [
       "             pid   AUC EVE  AUC ind model  length  AUC combined  Difference  \\\n",
       "2    SCN1A_HUMAN  0.950460       0.951563   10632      0.959141    0.001103   \n",
       "4     TSC2_HUMAN  0.906929       0.918342    2621      0.912862    0.011413   \n",
       "5     MYH7_HUMAN  0.837767       0.875848   18733      0.845070    0.038080   \n",
       "6    ABCA4_HUMAN  0.957672       0.956349    5072      0.962081   -0.001323   \n",
       "7    BRCA2_HUMAN  0.905280       0.937888     467      0.919908    0.032609   \n",
       "..           ...       ...            ...     ...           ...         ...   \n",
       "345   MTO1_HUMAN  0.628571       0.585714   38234      0.628571   -0.042857   \n",
       "348  GPAA1_HUMAN  0.866667       1.000000    2113      0.900000    0.133333   \n",
       "350   SERA_HUMAN  0.666667       0.733333   23579      0.700000    0.066667   \n",
       "352  ANTR2_HUMAN  0.933333       0.966667    1805      1.000000    0.033333   \n",
       "353   ALS2_HUMAN  0.920000       0.760000    1920      0.920000   -0.160000   \n",
       "\n",
       "     spearman correlation  \n",
       "2                0.665427  \n",
       "4                0.852126  \n",
       "5                0.843678  \n",
       "6                0.821949  \n",
       "7                0.866626  \n",
       "..                    ...  \n",
       "345              0.942208  \n",
       "348              0.845455  \n",
       "350              0.881818  \n",
       "352              0.751710  \n",
       "353              0.890909  \n",
       "\n",
       "[218 rows x 7 columns]"
      ]
     },
     "execution_count": 219,
     "metadata": {},
     "output_type": "execute_result"
    }
   ],
   "source": [
    "AUC[AUC['AUC combined']>AUC['AUC EVE']]"
   ]
  },
  {
   "cell_type": "code",
   "execution_count": 220,
   "id": "3b66a96f",
   "metadata": {},
   "outputs": [
    {
     "data": {
      "text/plain": [
       "0.615819209039548"
      ]
     },
     "execution_count": 220,
     "metadata": {},
     "output_type": "execute_result"
    }
   ],
   "source": [
    "218/354"
   ]
  },
  {
   "cell_type": "code",
   "execution_count": 221,
   "id": "1b4a4354",
   "metadata": {},
   "outputs": [
    {
     "data": {
      "text/plain": [
       "0.9281474002459884"
      ]
     },
     "execution_count": 221,
     "metadata": {},
     "output_type": "execute_result"
    }
   ],
   "source": [
    "AUC['AUC combined'].mean()"
   ]
  },
  {
   "cell_type": "code",
   "execution_count": 222,
   "id": "2339e1ec",
   "metadata": {},
   "outputs": [
    {
     "data": {
      "text/plain": [
       "0.9235499975395428"
      ]
     },
     "execution_count": 222,
     "metadata": {},
     "output_type": "execute_result"
    }
   ],
   "source": [
    "AUC['AUC EVE'].mean()"
   ]
  },
  {
   "cell_type": "code",
   "execution_count": 224,
   "id": "57960154",
   "metadata": {},
   "outputs": [
    {
     "data": {
      "text/plain": [
       "0.907901036988976"
      ]
     },
     "execution_count": 224,
     "metadata": {},
     "output_type": "execute_result"
    }
   ],
   "source": [
    "AUC['AUC ind model'].mean()"
   ]
  },
  {
   "cell_type": "code",
   "execution_count": 225,
   "id": "8e307d28",
   "metadata": {},
   "outputs": [],
   "source": [
    "AUC.to_excel(r'final_auc.xlsx', index = False)"
   ]
  },
  {
   "cell_type": "markdown",
   "id": "4cb22064",
   "metadata": {},
   "source": [
    "# AUC OF OTHER MODELS"
   ]
  },
  {
   "cell_type": "code",
   "execution_count": 19,
   "id": "c0541ce3",
   "metadata": {},
   "outputs": [],
   "source": [
    "performance = pd.read_excel('Performance_all.xlsx')"
   ]
  },
  {
   "cell_type": "code",
   "execution_count": 23,
   "id": "051bbf85",
   "metadata": {},
   "outputs": [],
   "source": [
    "AVERAGE_ALL = performance.loc[:, :'AUC_VEST4_score']"
   ]
  },
  {
   "cell_type": "code",
   "execution_count": 31,
   "id": "4519c5c2",
   "metadata": {},
   "outputs": [],
   "source": [
    "AVERAGE_ALL = AVERAGE_ALL.iloc[[3222]]"
   ]
  },
  {
   "cell_type": "code",
   "execution_count": 35,
   "id": "65136a72",
   "metadata": {},
   "outputs": [],
   "source": [
    "columns = []\n",
    "for i in range(len(AVERAGE_ALL.columns)): \n",
    "    if AVERAGE_ALL.columns[i][:3] == 'AUC': \n",
    "        columns.append(AVERAGE_ALL.columns[i])"
   ]
  },
  {
   "cell_type": "code",
   "execution_count": 42,
   "id": "b7ac7935",
   "metadata": {},
   "outputs": [
    {
     "data": {
      "text/html": [
       "<div>\n",
       "<style scoped>\n",
       "    .dataframe tbody tr th:only-of-type {\n",
       "        vertical-align: middle;\n",
       "    }\n",
       "\n",
       "    .dataframe tbody tr th {\n",
       "        vertical-align: top;\n",
       "    }\n",
       "\n",
       "    .dataframe thead th {\n",
       "        text-align: right;\n",
       "    }\n",
       "</style>\n",
       "<table border=\"1\" class=\"dataframe\">\n",
       "  <thead>\n",
       "    <tr style=\"text-align: right;\">\n",
       "      <th></th>\n",
       "      <th>AUC_EVE_scores</th>\n",
       "      <th>AUC_BayesDel_addAF_score</th>\n",
       "      <th>AUC_BayesDel_noAF_score</th>\n",
       "      <th>AUC_CADD_phred</th>\n",
       "      <th>AUC_CADD_phred_hg19</th>\n",
       "      <th>AUC_CADD_raw</th>\n",
       "      <th>AUC_CADD_raw_hg19</th>\n",
       "      <th>AUC_ClinPred_score</th>\n",
       "      <th>AUC_DANN_score</th>\n",
       "      <th>AUC_DEOGEN2_score</th>\n",
       "      <th>...</th>\n",
       "      <th>AUC_MutPred_score</th>\n",
       "      <th>AUC_MVP_score</th>\n",
       "      <th>AUC_Polyphen2_HDIV_score</th>\n",
       "      <th>AUC_Polyphen2_HVAR_score</th>\n",
       "      <th>AUC_PrimateAI_score</th>\n",
       "      <th>AUC_PROVEAN_score</th>\n",
       "      <th>AUC_REVEL_score</th>\n",
       "      <th>AUC_SIFT_score</th>\n",
       "      <th>AUC_SIFT4G_score</th>\n",
       "      <th>AUC_VEST4_score</th>\n",
       "    </tr>\n",
       "  </thead>\n",
       "  <tbody>\n",
       "    <tr>\n",
       "      <th>3222</th>\n",
       "      <td>0.909569</td>\n",
       "      <td>0.970511</td>\n",
       "      <td>0.919286</td>\n",
       "      <td>0.889839</td>\n",
       "      <td>0.884267</td>\n",
       "      <td>0.89016</td>\n",
       "      <td>0.884498</td>\n",
       "      <td>0.97836</td>\n",
       "      <td>0.79344</td>\n",
       "      <td>0.884473</td>\n",
       "      <td>...</td>\n",
       "      <td>0.869434</td>\n",
       "      <td>0.864431</td>\n",
       "      <td>0.867995</td>\n",
       "      <td>0.886689</td>\n",
       "      <td>0.857324</td>\n",
       "      <td>0.872238</td>\n",
       "      <td>0.923357</td>\n",
       "      <td>0.874275</td>\n",
       "      <td>0.879263</td>\n",
       "      <td>0.92657</td>\n",
       "    </tr>\n",
       "  </tbody>\n",
       "</table>\n",
       "<p>1 rows × 36 columns</p>\n",
       "</div>"
      ],
      "text/plain": [
       "      AUC_EVE_scores  AUC_BayesDel_addAF_score  AUC_BayesDel_noAF_score  \\\n",
       "3222        0.909569                  0.970511                 0.919286   \n",
       "\n",
       "      AUC_CADD_phred  AUC_CADD_phred_hg19  AUC_CADD_raw  AUC_CADD_raw_hg19  \\\n",
       "3222        0.889839             0.884267       0.89016           0.884498   \n",
       "\n",
       "      AUC_ClinPred_score  AUC_DANN_score  AUC_DEOGEN2_score  ...  \\\n",
       "3222             0.97836         0.79344           0.884473  ...   \n",
       "\n",
       "      AUC_MutPred_score  AUC_MVP_score  AUC_Polyphen2_HDIV_score  \\\n",
       "3222           0.869434       0.864431                  0.867995   \n",
       "\n",
       "      AUC_Polyphen2_HVAR_score  AUC_PrimateAI_score  AUC_PROVEAN_score  \\\n",
       "3222                  0.886689             0.857324           0.872238   \n",
       "\n",
       "      AUC_REVEL_score  AUC_SIFT_score  AUC_SIFT4G_score  AUC_VEST4_score  \n",
       "3222         0.923357        0.874275          0.879263          0.92657  \n",
       "\n",
       "[1 rows x 36 columns]"
      ]
     },
     "execution_count": 42,
     "metadata": {},
     "output_type": "execute_result"
    }
   ],
   "source": [
    "AVERAGE_ALL.loc[:, columns]"
   ]
  },
  {
   "cell_type": "code",
   "execution_count": 45,
   "id": "f848b1c3",
   "metadata": {},
   "outputs": [],
   "source": [
    "columns_new = ['AUC_EVE_scores',\n",
    " 'AUC_CADD_phred',\n",
    " 'AUC_DANN_score',\n",
    " 'AUC_DEOGEN2_score',\n",
    " 'AUC_FATHMM_score',\n",
    " 'AUC_LIST-S2_score',\n",
    " 'AUC_LRT_score',\n",
    " 'AUC_MPC_score',\n",
    " 'AUC_MutationAssessor_score',\n",
    " 'AUC_MutationTaster_score',\n",
    " 'AUC_MutPred_score',\n",
    " 'AUC_Polyphen2_HDIV_score',\n",
    " 'AUC_Polyphen2_HVAR_score',\n",
    " 'AUC_PrimateAI_score',\n",
    " 'AUC_PROVEAN_score',\n",
    " 'AUC_SIFT_score']"
   ]
  },
  {
   "cell_type": "code",
   "execution_count": 46,
   "id": "2045aab3",
   "metadata": {},
   "outputs": [
    {
     "data": {
      "text/plain": [
       "16"
      ]
     },
     "execution_count": 46,
     "metadata": {},
     "output_type": "execute_result"
    }
   ],
   "source": [
    "len(columns_new)"
   ]
  },
  {
   "cell_type": "code",
   "execution_count": 47,
   "id": "3981f61b",
   "metadata": {},
   "outputs": [
    {
     "data": {
      "text/html": [
       "<div>\n",
       "<style scoped>\n",
       "    .dataframe tbody tr th:only-of-type {\n",
       "        vertical-align: middle;\n",
       "    }\n",
       "\n",
       "    .dataframe tbody tr th {\n",
       "        vertical-align: top;\n",
       "    }\n",
       "\n",
       "    .dataframe thead th {\n",
       "        text-align: right;\n",
       "    }\n",
       "</style>\n",
       "<table border=\"1\" class=\"dataframe\">\n",
       "  <thead>\n",
       "    <tr style=\"text-align: right;\">\n",
       "      <th></th>\n",
       "      <th>AUC_EVE_scores</th>\n",
       "      <th>AUC_CADD_phred</th>\n",
       "      <th>AUC_DANN_score</th>\n",
       "      <th>AUC_DEOGEN2_score</th>\n",
       "      <th>AUC_FATHMM_score</th>\n",
       "      <th>AUC_LIST-S2_score</th>\n",
       "      <th>AUC_LRT_score</th>\n",
       "      <th>AUC_MPC_score</th>\n",
       "      <th>AUC_MutationAssessor_score</th>\n",
       "      <th>AUC_MutationTaster_score</th>\n",
       "      <th>AUC_MutPred_score</th>\n",
       "      <th>AUC_Polyphen2_HDIV_score</th>\n",
       "      <th>AUC_Polyphen2_HVAR_score</th>\n",
       "      <th>AUC_PrimateAI_score</th>\n",
       "      <th>AUC_PROVEAN_score</th>\n",
       "      <th>AUC_SIFT_score</th>\n",
       "    </tr>\n",
       "  </thead>\n",
       "  <tbody>\n",
       "    <tr>\n",
       "      <th>3222</th>\n",
       "      <td>0.909569</td>\n",
       "      <td>0.889839</td>\n",
       "      <td>0.79344</td>\n",
       "      <td>0.884473</td>\n",
       "      <td>0.721212</td>\n",
       "      <td>0.818951</td>\n",
       "      <td>0.779401</td>\n",
       "      <td>0.871234</td>\n",
       "      <td>0.871737</td>\n",
       "      <td>0.697765</td>\n",
       "      <td>0.869434</td>\n",
       "      <td>0.867995</td>\n",
       "      <td>0.886689</td>\n",
       "      <td>0.857324</td>\n",
       "      <td>0.872238</td>\n",
       "      <td>0.874275</td>\n",
       "    </tr>\n",
       "  </tbody>\n",
       "</table>\n",
       "</div>"
      ],
      "text/plain": [
       "      AUC_EVE_scores  AUC_CADD_phred  AUC_DANN_score  AUC_DEOGEN2_score  \\\n",
       "3222        0.909569        0.889839         0.79344           0.884473   \n",
       "\n",
       "      AUC_FATHMM_score  AUC_LIST-S2_score  AUC_LRT_score  AUC_MPC_score  \\\n",
       "3222          0.721212           0.818951       0.779401       0.871234   \n",
       "\n",
       "      AUC_MutationAssessor_score  AUC_MutationTaster_score  AUC_MutPred_score  \\\n",
       "3222                    0.871737                  0.697765           0.869434   \n",
       "\n",
       "      AUC_Polyphen2_HDIV_score  AUC_Polyphen2_HVAR_score  AUC_PrimateAI_score  \\\n",
       "3222                  0.867995                  0.886689             0.857324   \n",
       "\n",
       "      AUC_PROVEAN_score  AUC_SIFT_score  \n",
       "3222           0.872238        0.874275  "
      ]
     },
     "execution_count": 47,
     "metadata": {},
     "output_type": "execute_result"
    }
   ],
   "source": [
    "AVERAGE_ALL.loc[:, columns_new]"
   ]
  },
  {
   "cell_type": "code",
   "execution_count": 66,
   "id": "4259b76f",
   "metadata": {},
   "outputs": [],
   "source": [
    "columns_new.remove('pid')"
   ]
  },
  {
   "cell_type": "code",
   "execution_count": 69,
   "id": "d8efdd11",
   "metadata": {},
   "outputs": [],
   "source": [
    "columns_new.insert(0, 'pid')"
   ]
  },
  {
   "cell_type": "code",
   "execution_count": 70,
   "id": "1b3bdf60",
   "metadata": {},
   "outputs": [],
   "source": [
    "performance_model = performance.loc[:,columns_new]"
   ]
  },
  {
   "cell_type": "code",
   "execution_count": 71,
   "id": "6d6ba5cf",
   "metadata": {},
   "outputs": [
    {
     "data": {
      "text/html": [
       "<div>\n",
       "<style scoped>\n",
       "    .dataframe tbody tr th:only-of-type {\n",
       "        vertical-align: middle;\n",
       "    }\n",
       "\n",
       "    .dataframe tbody tr th {\n",
       "        vertical-align: top;\n",
       "    }\n",
       "\n",
       "    .dataframe thead th {\n",
       "        text-align: right;\n",
       "    }\n",
       "</style>\n",
       "<table border=\"1\" class=\"dataframe\">\n",
       "  <thead>\n",
       "    <tr style=\"text-align: right;\">\n",
       "      <th></th>\n",
       "      <th>pid</th>\n",
       "      <th>AUC_EVE_scores</th>\n",
       "      <th>AUC_CADD_phred</th>\n",
       "      <th>AUC_DANN_score</th>\n",
       "      <th>AUC_DEOGEN2_score</th>\n",
       "      <th>AUC_FATHMM_score</th>\n",
       "      <th>AUC_LIST-S2_score</th>\n",
       "      <th>AUC_LRT_score</th>\n",
       "      <th>AUC_MPC_score</th>\n",
       "      <th>AUC_MutationAssessor_score</th>\n",
       "      <th>AUC_MutationTaster_score</th>\n",
       "      <th>AUC_MutPred_score</th>\n",
       "      <th>AUC_Polyphen2_HDIV_score</th>\n",
       "      <th>AUC_Polyphen2_HVAR_score</th>\n",
       "      <th>AUC_PrimateAI_score</th>\n",
       "      <th>AUC_PROVEAN_score</th>\n",
       "      <th>AUC_SIFT_score</th>\n",
       "    </tr>\n",
       "  </thead>\n",
       "  <tbody>\n",
       "    <tr>\n",
       "      <th>0</th>\n",
       "      <td>1433G_HUMAN</td>\n",
       "      <td>1.000000</td>\n",
       "      <td>1.000000</td>\n",
       "      <td>0.500000</td>\n",
       "      <td>1.000000</td>\n",
       "      <td>1.000000</td>\n",
       "      <td>0.750000</td>\n",
       "      <td>0.500000</td>\n",
       "      <td>1.000000</td>\n",
       "      <td>1.000000</td>\n",
       "      <td>0.500000</td>\n",
       "      <td>1.000000</td>\n",
       "      <td>1.000000</td>\n",
       "      <td>1.000000</td>\n",
       "      <td>0.250000</td>\n",
       "      <td>1.000000</td>\n",
       "      <td>1.000000</td>\n",
       "    </tr>\n",
       "    <tr>\n",
       "      <th>1</th>\n",
       "      <td>1433Z_HUMAN</td>\n",
       "      <td>NaN</td>\n",
       "      <td>NaN</td>\n",
       "      <td>NaN</td>\n",
       "      <td>NaN</td>\n",
       "      <td>NaN</td>\n",
       "      <td>NaN</td>\n",
       "      <td>NaN</td>\n",
       "      <td>NaN</td>\n",
       "      <td>NaN</td>\n",
       "      <td>NaN</td>\n",
       "      <td>NaN</td>\n",
       "      <td>NaN</td>\n",
       "      <td>NaN</td>\n",
       "      <td>NaN</td>\n",
       "      <td>NaN</td>\n",
       "      <td>NaN</td>\n",
       "    </tr>\n",
       "    <tr>\n",
       "      <th>2</th>\n",
       "      <td>2A5D_HUMAN</td>\n",
       "      <td>1.000000</td>\n",
       "      <td>0.954545</td>\n",
       "      <td>1.000000</td>\n",
       "      <td>1.000000</td>\n",
       "      <td>0.909091</td>\n",
       "      <td>0.909091</td>\n",
       "      <td>0.750000</td>\n",
       "      <td>0.954545</td>\n",
       "      <td>1.000000</td>\n",
       "      <td>0.750000</td>\n",
       "      <td>0.454545</td>\n",
       "      <td>1.000000</td>\n",
       "      <td>0.909091</td>\n",
       "      <td>0.590909</td>\n",
       "      <td>1.000000</td>\n",
       "      <td>0.886364</td>\n",
       "    </tr>\n",
       "    <tr>\n",
       "      <th>3</th>\n",
       "      <td>2A5G_HUMAN</td>\n",
       "      <td>NaN</td>\n",
       "      <td>NaN</td>\n",
       "      <td>NaN</td>\n",
       "      <td>NaN</td>\n",
       "      <td>NaN</td>\n",
       "      <td>NaN</td>\n",
       "      <td>NaN</td>\n",
       "      <td>NaN</td>\n",
       "      <td>NaN</td>\n",
       "      <td>NaN</td>\n",
       "      <td>NaN</td>\n",
       "      <td>NaN</td>\n",
       "      <td>NaN</td>\n",
       "      <td>NaN</td>\n",
       "      <td>NaN</td>\n",
       "      <td>NaN</td>\n",
       "    </tr>\n",
       "    <tr>\n",
       "      <th>4</th>\n",
       "      <td>2AAA_HUMAN</td>\n",
       "      <td>1.000000</td>\n",
       "      <td>1.000000</td>\n",
       "      <td>1.000000</td>\n",
       "      <td>1.000000</td>\n",
       "      <td>0.472222</td>\n",
       "      <td>0.777778</td>\n",
       "      <td>0.666667</td>\n",
       "      <td>1.000000</td>\n",
       "      <td>1.000000</td>\n",
       "      <td>0.100000</td>\n",
       "      <td>1.000000</td>\n",
       "      <td>1.000000</td>\n",
       "      <td>1.000000</td>\n",
       "      <td>0.777778</td>\n",
       "      <td>0.944444</td>\n",
       "      <td>1.000000</td>\n",
       "    </tr>\n",
       "    <tr>\n",
       "      <th>...</th>\n",
       "      <td>...</td>\n",
       "      <td>...</td>\n",
       "      <td>...</td>\n",
       "      <td>...</td>\n",
       "      <td>...</td>\n",
       "      <td>...</td>\n",
       "      <td>...</td>\n",
       "      <td>...</td>\n",
       "      <td>...</td>\n",
       "      <td>...</td>\n",
       "      <td>...</td>\n",
       "      <td>...</td>\n",
       "      <td>...</td>\n",
       "      <td>...</td>\n",
       "      <td>...</td>\n",
       "      <td>...</td>\n",
       "      <td>...</td>\n",
       "    </tr>\n",
       "    <tr>\n",
       "      <th>3220</th>\n",
       "      <td>ZSWM6_HUMAN</td>\n",
       "      <td>0.833333</td>\n",
       "      <td>0.666667</td>\n",
       "      <td>0.666667</td>\n",
       "      <td>0.833333</td>\n",
       "      <td>0.500000</td>\n",
       "      <td>0.833333</td>\n",
       "      <td>1.000000</td>\n",
       "      <td>1.000000</td>\n",
       "      <td>1.000000</td>\n",
       "      <td>1.000000</td>\n",
       "      <td>NaN</td>\n",
       "      <td>0.750000</td>\n",
       "      <td>0.833333</td>\n",
       "      <td>1.000000</td>\n",
       "      <td>0.833333</td>\n",
       "      <td>0.666667</td>\n",
       "    </tr>\n",
       "    <tr>\n",
       "      <th>3221</th>\n",
       "      <td>All_proteins</td>\n",
       "      <td>0.885278</td>\n",
       "      <td>0.888454</td>\n",
       "      <td>0.766085</td>\n",
       "      <td>0.910335</td>\n",
       "      <td>0.792744</td>\n",
       "      <td>0.832745</td>\n",
       "      <td>0.795462</td>\n",
       "      <td>0.793285</td>\n",
       "      <td>0.869632</td>\n",
       "      <td>0.696542</td>\n",
       "      <td>0.896116</td>\n",
       "      <td>0.850209</td>\n",
       "      <td>0.877515</td>\n",
       "      <td>0.853201</td>\n",
       "      <td>0.885765</td>\n",
       "      <td>0.880723</td>\n",
       "    </tr>\n",
       "    <tr>\n",
       "      <th>3222</th>\n",
       "      <td>Average_proteins</td>\n",
       "      <td>0.909569</td>\n",
       "      <td>0.889839</td>\n",
       "      <td>0.793440</td>\n",
       "      <td>0.884473</td>\n",
       "      <td>0.721212</td>\n",
       "      <td>0.818951</td>\n",
       "      <td>0.779401</td>\n",
       "      <td>0.871234</td>\n",
       "      <td>0.871737</td>\n",
       "      <td>0.697765</td>\n",
       "      <td>0.869434</td>\n",
       "      <td>0.867995</td>\n",
       "      <td>0.886689</td>\n",
       "      <td>0.857324</td>\n",
       "      <td>0.872238</td>\n",
       "      <td>0.874275</td>\n",
       "    </tr>\n",
       "    <tr>\n",
       "      <th>3223</th>\n",
       "      <td>Weigthed_average_proteins</td>\n",
       "      <td>0.910460</td>\n",
       "      <td>0.891762</td>\n",
       "      <td>0.785373</td>\n",
       "      <td>0.893680</td>\n",
       "      <td>0.739736</td>\n",
       "      <td>0.827066</td>\n",
       "      <td>0.785334</td>\n",
       "      <td>0.864173</td>\n",
       "      <td>0.878185</td>\n",
       "      <td>0.698220</td>\n",
       "      <td>0.887278</td>\n",
       "      <td>0.867137</td>\n",
       "      <td>0.885697</td>\n",
       "      <td>0.866189</td>\n",
       "      <td>0.877719</td>\n",
       "      <td>0.884287</td>\n",
       "    </tr>\n",
       "    <tr>\n",
       "      <th>3224</th>\n",
       "      <td>Censored_Average_gt10</td>\n",
       "      <td>0.902005</td>\n",
       "      <td>0.889646</td>\n",
       "      <td>0.788761</td>\n",
       "      <td>0.888148</td>\n",
       "      <td>0.723726</td>\n",
       "      <td>0.824716</td>\n",
       "      <td>0.777435</td>\n",
       "      <td>0.862719</td>\n",
       "      <td>0.868141</td>\n",
       "      <td>0.688344</td>\n",
       "      <td>0.883974</td>\n",
       "      <td>0.866282</td>\n",
       "      <td>0.883730</td>\n",
       "      <td>0.862767</td>\n",
       "      <td>0.872820</td>\n",
       "      <td>0.879509</td>\n",
       "    </tr>\n",
       "  </tbody>\n",
       "</table>\n",
       "<p>3225 rows × 17 columns</p>\n",
       "</div>"
      ],
      "text/plain": [
       "                            pid  AUC_EVE_scores  AUC_CADD_phred  \\\n",
       "0                   1433G_HUMAN        1.000000        1.000000   \n",
       "1                   1433Z_HUMAN             NaN             NaN   \n",
       "2                    2A5D_HUMAN        1.000000        0.954545   \n",
       "3                    2A5G_HUMAN             NaN             NaN   \n",
       "4                    2AAA_HUMAN        1.000000        1.000000   \n",
       "...                         ...             ...             ...   \n",
       "3220                ZSWM6_HUMAN        0.833333        0.666667   \n",
       "3221               All_proteins        0.885278        0.888454   \n",
       "3222           Average_proteins        0.909569        0.889839   \n",
       "3223  Weigthed_average_proteins        0.910460        0.891762   \n",
       "3224      Censored_Average_gt10        0.902005        0.889646   \n",
       "\n",
       "      AUC_DANN_score  AUC_DEOGEN2_score  AUC_FATHMM_score  AUC_LIST-S2_score  \\\n",
       "0           0.500000           1.000000          1.000000           0.750000   \n",
       "1                NaN                NaN               NaN                NaN   \n",
       "2           1.000000           1.000000          0.909091           0.909091   \n",
       "3                NaN                NaN               NaN                NaN   \n",
       "4           1.000000           1.000000          0.472222           0.777778   \n",
       "...              ...                ...               ...                ...   \n",
       "3220        0.666667           0.833333          0.500000           0.833333   \n",
       "3221        0.766085           0.910335          0.792744           0.832745   \n",
       "3222        0.793440           0.884473          0.721212           0.818951   \n",
       "3223        0.785373           0.893680          0.739736           0.827066   \n",
       "3224        0.788761           0.888148          0.723726           0.824716   \n",
       "\n",
       "      AUC_LRT_score  AUC_MPC_score  AUC_MutationAssessor_score  \\\n",
       "0          0.500000       1.000000                    1.000000   \n",
       "1               NaN            NaN                         NaN   \n",
       "2          0.750000       0.954545                    1.000000   \n",
       "3               NaN            NaN                         NaN   \n",
       "4          0.666667       1.000000                    1.000000   \n",
       "...             ...            ...                         ...   \n",
       "3220       1.000000       1.000000                    1.000000   \n",
       "3221       0.795462       0.793285                    0.869632   \n",
       "3222       0.779401       0.871234                    0.871737   \n",
       "3223       0.785334       0.864173                    0.878185   \n",
       "3224       0.777435       0.862719                    0.868141   \n",
       "\n",
       "      AUC_MutationTaster_score  AUC_MutPred_score  AUC_Polyphen2_HDIV_score  \\\n",
       "0                     0.500000           1.000000                  1.000000   \n",
       "1                          NaN                NaN                       NaN   \n",
       "2                     0.750000           0.454545                  1.000000   \n",
       "3                          NaN                NaN                       NaN   \n",
       "4                     0.100000           1.000000                  1.000000   \n",
       "...                        ...                ...                       ...   \n",
       "3220                  1.000000                NaN                  0.750000   \n",
       "3221                  0.696542           0.896116                  0.850209   \n",
       "3222                  0.697765           0.869434                  0.867995   \n",
       "3223                  0.698220           0.887278                  0.867137   \n",
       "3224                  0.688344           0.883974                  0.866282   \n",
       "\n",
       "      AUC_Polyphen2_HVAR_score  AUC_PrimateAI_score  AUC_PROVEAN_score  \\\n",
       "0                     1.000000             0.250000           1.000000   \n",
       "1                          NaN                  NaN                NaN   \n",
       "2                     0.909091             0.590909           1.000000   \n",
       "3                          NaN                  NaN                NaN   \n",
       "4                     1.000000             0.777778           0.944444   \n",
       "...                        ...                  ...                ...   \n",
       "3220                  0.833333             1.000000           0.833333   \n",
       "3221                  0.877515             0.853201           0.885765   \n",
       "3222                  0.886689             0.857324           0.872238   \n",
       "3223                  0.885697             0.866189           0.877719   \n",
       "3224                  0.883730             0.862767           0.872820   \n",
       "\n",
       "      AUC_SIFT_score  \n",
       "0           1.000000  \n",
       "1                NaN  \n",
       "2           0.886364  \n",
       "3                NaN  \n",
       "4           1.000000  \n",
       "...              ...  \n",
       "3220        0.666667  \n",
       "3221        0.880723  \n",
       "3222        0.874275  \n",
       "3223        0.884287  \n",
       "3224        0.879509  \n",
       "\n",
       "[3225 rows x 17 columns]"
      ]
     },
     "execution_count": 71,
     "metadata": {},
     "output_type": "execute_result"
    }
   ],
   "source": [
    "performance_model"
   ]
  },
  {
   "cell_type": "code",
   "execution_count": 73,
   "id": "a00cd661",
   "metadata": {},
   "outputs": [],
   "source": [
    "index = []\n",
    "for i in range(len(performance_model)): \n",
    "    if performance_model['pid'][i] in g_names:\n",
    "        index.append(i)\n",
    "performance_model = performance_model.iloc[index, :]\n",
    "performance_model.index = [i for i in range(len(performance_model))]"
   ]
  },
  {
   "cell_type": "code",
   "execution_count": 74,
   "id": "072f287d",
   "metadata": {},
   "outputs": [
    {
     "data": {
      "text/html": [
       "<div>\n",
       "<style scoped>\n",
       "    .dataframe tbody tr th:only-of-type {\n",
       "        vertical-align: middle;\n",
       "    }\n",
       "\n",
       "    .dataframe tbody tr th {\n",
       "        vertical-align: top;\n",
       "    }\n",
       "\n",
       "    .dataframe thead th {\n",
       "        text-align: right;\n",
       "    }\n",
       "</style>\n",
       "<table border=\"1\" class=\"dataframe\">\n",
       "  <thead>\n",
       "    <tr style=\"text-align: right;\">\n",
       "      <th></th>\n",
       "      <th>pid</th>\n",
       "      <th>AUC_EVE_scores</th>\n",
       "      <th>AUC_CADD_phred</th>\n",
       "      <th>AUC_DANN_score</th>\n",
       "      <th>AUC_DEOGEN2_score</th>\n",
       "      <th>AUC_FATHMM_score</th>\n",
       "      <th>AUC_LIST-S2_score</th>\n",
       "      <th>AUC_LRT_score</th>\n",
       "      <th>AUC_MPC_score</th>\n",
       "      <th>AUC_MutationAssessor_score</th>\n",
       "      <th>AUC_MutationTaster_score</th>\n",
       "      <th>AUC_MutPred_score</th>\n",
       "      <th>AUC_Polyphen2_HDIV_score</th>\n",
       "      <th>AUC_Polyphen2_HVAR_score</th>\n",
       "      <th>AUC_PrimateAI_score</th>\n",
       "      <th>AUC_PROVEAN_score</th>\n",
       "      <th>AUC_SIFT_score</th>\n",
       "    </tr>\n",
       "  </thead>\n",
       "  <tbody>\n",
       "    <tr>\n",
       "      <th>0</th>\n",
       "      <td>3BP2_HUMAN</td>\n",
       "      <td>0.833333</td>\n",
       "      <td>0.653846</td>\n",
       "      <td>0.743590</td>\n",
       "      <td>0.782051</td>\n",
       "      <td>1.000000</td>\n",
       "      <td>NaN</td>\n",
       "      <td>0.769231</td>\n",
       "      <td>NaN</td>\n",
       "      <td>NaN</td>\n",
       "      <td>0.761905</td>\n",
       "      <td>0.760000</td>\n",
       "      <td>0.871795</td>\n",
       "      <td>0.884615</td>\n",
       "      <td>0.794872</td>\n",
       "      <td>0.858974</td>\n",
       "      <td>0.628205</td>\n",
       "    </tr>\n",
       "    <tr>\n",
       "      <th>1</th>\n",
       "      <td>A1AT_HUMAN</td>\n",
       "      <td>0.874074</td>\n",
       "      <td>0.833333</td>\n",
       "      <td>0.870370</td>\n",
       "      <td>0.859259</td>\n",
       "      <td>0.777778</td>\n",
       "      <td>NaN</td>\n",
       "      <td>0.559259</td>\n",
       "      <td>NaN</td>\n",
       "      <td>0.844444</td>\n",
       "      <td>NaN</td>\n",
       "      <td>0.810000</td>\n",
       "      <td>0.857407</td>\n",
       "      <td>0.862963</td>\n",
       "      <td>0.692593</td>\n",
       "      <td>0.814815</td>\n",
       "      <td>0.868519</td>\n",
       "    </tr>\n",
       "    <tr>\n",
       "      <th>2</th>\n",
       "      <td>A4_HUMAN</td>\n",
       "      <td>0.785714</td>\n",
       "      <td>0.651786</td>\n",
       "      <td>0.625000</td>\n",
       "      <td>0.946429</td>\n",
       "      <td>1.000000</td>\n",
       "      <td>0.714286</td>\n",
       "      <td>0.866071</td>\n",
       "      <td>0.821429</td>\n",
       "      <td>0.482143</td>\n",
       "      <td>NaN</td>\n",
       "      <td>0.714286</td>\n",
       "      <td>0.750000</td>\n",
       "      <td>1.000000</td>\n",
       "      <td>0.767857</td>\n",
       "      <td>0.750000</td>\n",
       "      <td>0.758929</td>\n",
       "    </tr>\n",
       "    <tr>\n",
       "      <th>3</th>\n",
       "      <td>ABCA3_HUMAN</td>\n",
       "      <td>0.825397</td>\n",
       "      <td>0.730159</td>\n",
       "      <td>0.571429</td>\n",
       "      <td>0.603175</td>\n",
       "      <td>0.365079</td>\n",
       "      <td>0.603175</td>\n",
       "      <td>0.714286</td>\n",
       "      <td>0.888889</td>\n",
       "      <td>1.000000</td>\n",
       "      <td>0.476190</td>\n",
       "      <td>0.250000</td>\n",
       "      <td>0.825397</td>\n",
       "      <td>0.817460</td>\n",
       "      <td>0.619048</td>\n",
       "      <td>0.825397</td>\n",
       "      <td>0.833333</td>\n",
       "    </tr>\n",
       "    <tr>\n",
       "      <th>4</th>\n",
       "      <td>ABCA4_HUMAN</td>\n",
       "      <td>0.957672</td>\n",
       "      <td>0.901896</td>\n",
       "      <td>0.890212</td>\n",
       "      <td>0.931658</td>\n",
       "      <td>0.641093</td>\n",
       "      <td>0.915123</td>\n",
       "      <td>0.817901</td>\n",
       "      <td>0.895723</td>\n",
       "      <td>0.934965</td>\n",
       "      <td>0.712827</td>\n",
       "      <td>0.825342</td>\n",
       "      <td>0.862434</td>\n",
       "      <td>0.891093</td>\n",
       "      <td>0.936949</td>\n",
       "      <td>0.957672</td>\n",
       "      <td>0.921958</td>\n",
       "    </tr>\n",
       "    <tr>\n",
       "      <th>...</th>\n",
       "      <td>...</td>\n",
       "      <td>...</td>\n",
       "      <td>...</td>\n",
       "      <td>...</td>\n",
       "      <td>...</td>\n",
       "      <td>...</td>\n",
       "      <td>...</td>\n",
       "      <td>...</td>\n",
       "      <td>...</td>\n",
       "      <td>...</td>\n",
       "      <td>...</td>\n",
       "      <td>...</td>\n",
       "      <td>...</td>\n",
       "      <td>...</td>\n",
       "      <td>...</td>\n",
       "      <td>...</td>\n",
       "      <td>...</td>\n",
       "    </tr>\n",
       "    <tr>\n",
       "      <th>349</th>\n",
       "      <td>WDR62_HUMAN</td>\n",
       "      <td>1.000000</td>\n",
       "      <td>0.952381</td>\n",
       "      <td>0.825397</td>\n",
       "      <td>0.888889</td>\n",
       "      <td>0.714286</td>\n",
       "      <td>0.873016</td>\n",
       "      <td>0.936508</td>\n",
       "      <td>NaN</td>\n",
       "      <td>0.936508</td>\n",
       "      <td>0.500000</td>\n",
       "      <td>0.857143</td>\n",
       "      <td>0.968254</td>\n",
       "      <td>0.936508</td>\n",
       "      <td>0.952381</td>\n",
       "      <td>1.000000</td>\n",
       "      <td>0.952381</td>\n",
       "    </tr>\n",
       "    <tr>\n",
       "      <th>350</th>\n",
       "      <td>WFS1_HUMAN</td>\n",
       "      <td>0.983333</td>\n",
       "      <td>0.988333</td>\n",
       "      <td>0.936667</td>\n",
       "      <td>0.968889</td>\n",
       "      <td>0.791667</td>\n",
       "      <td>NaN</td>\n",
       "      <td>0.828333</td>\n",
       "      <td>NaN</td>\n",
       "      <td>0.928889</td>\n",
       "      <td>0.796111</td>\n",
       "      <td>0.952381</td>\n",
       "      <td>0.959444</td>\n",
       "      <td>0.971111</td>\n",
       "      <td>0.947778</td>\n",
       "      <td>0.972778</td>\n",
       "      <td>0.927222</td>\n",
       "    </tr>\n",
       "    <tr>\n",
       "      <th>351</th>\n",
       "      <td>WIPI4_HUMAN</td>\n",
       "      <td>0.962963</td>\n",
       "      <td>0.950617</td>\n",
       "      <td>0.950617</td>\n",
       "      <td>0.950617</td>\n",
       "      <td>0.209877</td>\n",
       "      <td>NaN</td>\n",
       "      <td>0.537037</td>\n",
       "      <td>NaN</td>\n",
       "      <td>0.950617</td>\n",
       "      <td>NaN</td>\n",
       "      <td>0.933333</td>\n",
       "      <td>0.901235</td>\n",
       "      <td>0.913580</td>\n",
       "      <td>0.888889</td>\n",
       "      <td>0.950617</td>\n",
       "      <td>0.975309</td>\n",
       "    </tr>\n",
       "    <tr>\n",
       "      <th>352</th>\n",
       "      <td>WN10A_HUMAN</td>\n",
       "      <td>0.950000</td>\n",
       "      <td>0.891667</td>\n",
       "      <td>0.766667</td>\n",
       "      <td>0.966667</td>\n",
       "      <td>0.991667</td>\n",
       "      <td>0.766667</td>\n",
       "      <td>0.925000</td>\n",
       "      <td>0.550000</td>\n",
       "      <td>0.950000</td>\n",
       "      <td>0.666667</td>\n",
       "      <td>1.000000</td>\n",
       "      <td>0.966667</td>\n",
       "      <td>0.983333</td>\n",
       "      <td>0.600000</td>\n",
       "      <td>0.950000</td>\n",
       "      <td>0.933333</td>\n",
       "    </tr>\n",
       "    <tr>\n",
       "      <th>353</th>\n",
       "      <td>ZEB2_HUMAN</td>\n",
       "      <td>0.984242</td>\n",
       "      <td>0.938182</td>\n",
       "      <td>0.705455</td>\n",
       "      <td>0.980606</td>\n",
       "      <td>NaN</td>\n",
       "      <td>NaN</td>\n",
       "      <td>0.727273</td>\n",
       "      <td>NaN</td>\n",
       "      <td>0.817576</td>\n",
       "      <td>NaN</td>\n",
       "      <td>0.762602</td>\n",
       "      <td>0.770303</td>\n",
       "      <td>0.835758</td>\n",
       "      <td>0.974545</td>\n",
       "      <td>NaN</td>\n",
       "      <td>NaN</td>\n",
       "    </tr>\n",
       "  </tbody>\n",
       "</table>\n",
       "<p>354 rows × 17 columns</p>\n",
       "</div>"
      ],
      "text/plain": [
       "             pid  AUC_EVE_scores  AUC_CADD_phred  AUC_DANN_score  \\\n",
       "0     3BP2_HUMAN        0.833333        0.653846        0.743590   \n",
       "1     A1AT_HUMAN        0.874074        0.833333        0.870370   \n",
       "2       A4_HUMAN        0.785714        0.651786        0.625000   \n",
       "3    ABCA3_HUMAN        0.825397        0.730159        0.571429   \n",
       "4    ABCA4_HUMAN        0.957672        0.901896        0.890212   \n",
       "..           ...             ...             ...             ...   \n",
       "349  WDR62_HUMAN        1.000000        0.952381        0.825397   \n",
       "350   WFS1_HUMAN        0.983333        0.988333        0.936667   \n",
       "351  WIPI4_HUMAN        0.962963        0.950617        0.950617   \n",
       "352  WN10A_HUMAN        0.950000        0.891667        0.766667   \n",
       "353   ZEB2_HUMAN        0.984242        0.938182        0.705455   \n",
       "\n",
       "     AUC_DEOGEN2_score  AUC_FATHMM_score  AUC_LIST-S2_score  AUC_LRT_score  \\\n",
       "0             0.782051          1.000000                NaN       0.769231   \n",
       "1             0.859259          0.777778                NaN       0.559259   \n",
       "2             0.946429          1.000000           0.714286       0.866071   \n",
       "3             0.603175          0.365079           0.603175       0.714286   \n",
       "4             0.931658          0.641093           0.915123       0.817901   \n",
       "..                 ...               ...                ...            ...   \n",
       "349           0.888889          0.714286           0.873016       0.936508   \n",
       "350           0.968889          0.791667                NaN       0.828333   \n",
       "351           0.950617          0.209877                NaN       0.537037   \n",
       "352           0.966667          0.991667           0.766667       0.925000   \n",
       "353           0.980606               NaN                NaN       0.727273   \n",
       "\n",
       "     AUC_MPC_score  AUC_MutationAssessor_score  AUC_MutationTaster_score  \\\n",
       "0              NaN                         NaN                  0.761905   \n",
       "1              NaN                    0.844444                       NaN   \n",
       "2         0.821429                    0.482143                       NaN   \n",
       "3         0.888889                    1.000000                  0.476190   \n",
       "4         0.895723                    0.934965                  0.712827   \n",
       "..             ...                         ...                       ...   \n",
       "349            NaN                    0.936508                  0.500000   \n",
       "350            NaN                    0.928889                  0.796111   \n",
       "351            NaN                    0.950617                       NaN   \n",
       "352       0.550000                    0.950000                  0.666667   \n",
       "353            NaN                    0.817576                       NaN   \n",
       "\n",
       "     AUC_MutPred_score  AUC_Polyphen2_HDIV_score  AUC_Polyphen2_HVAR_score  \\\n",
       "0             0.760000                  0.871795                  0.884615   \n",
       "1             0.810000                  0.857407                  0.862963   \n",
       "2             0.714286                  0.750000                  1.000000   \n",
       "3             0.250000                  0.825397                  0.817460   \n",
       "4             0.825342                  0.862434                  0.891093   \n",
       "..                 ...                       ...                       ...   \n",
       "349           0.857143                  0.968254                  0.936508   \n",
       "350           0.952381                  0.959444                  0.971111   \n",
       "351           0.933333                  0.901235                  0.913580   \n",
       "352           1.000000                  0.966667                  0.983333   \n",
       "353           0.762602                  0.770303                  0.835758   \n",
       "\n",
       "     AUC_PrimateAI_score  AUC_PROVEAN_score  AUC_SIFT_score  \n",
       "0               0.794872           0.858974        0.628205  \n",
       "1               0.692593           0.814815        0.868519  \n",
       "2               0.767857           0.750000        0.758929  \n",
       "3               0.619048           0.825397        0.833333  \n",
       "4               0.936949           0.957672        0.921958  \n",
       "..                   ...                ...             ...  \n",
       "349             0.952381           1.000000        0.952381  \n",
       "350             0.947778           0.972778        0.927222  \n",
       "351             0.888889           0.950617        0.975309  \n",
       "352             0.600000           0.950000        0.933333  \n",
       "353             0.974545                NaN             NaN  \n",
       "\n",
       "[354 rows x 17 columns]"
      ]
     },
     "execution_count": 74,
     "metadata": {},
     "output_type": "execute_result"
    }
   ],
   "source": [
    "performance_model"
   ]
  },
  {
   "cell_type": "code",
   "execution_count": 78,
   "id": "9054d9d1",
   "metadata": {},
   "outputs": [],
   "source": [
    "average_model = {}\n",
    "for column in columns_new: \n",
    "    if column == 'pid': \n",
    "        continue\n",
    "    average_model[column] = np.average(performance_model[column].dropna())"
   ]
  },
  {
   "cell_type": "code",
   "execution_count": 79,
   "id": "eb6a834b",
   "metadata": {},
   "outputs": [
    {
     "data": {
      "text/plain": [
       "{'AUC_EVE_scores': 0.9235499975395433,\n",
       " 'AUC_CADD_phred': 0.9064848361867339,\n",
       " 'AUC_DANN_score': 0.7838940280069102,\n",
       " 'AUC_DEOGEN2_score': 0.9071570736230216,\n",
       " 'AUC_FATHMM_score': 0.742744168040008,\n",
       " 'AUC_LIST-S2_score': 0.8431934602904512,\n",
       " 'AUC_LRT_score': 0.790751510064843,\n",
       " 'AUC_MPC_score': 0.8843175709337762,\n",
       " 'AUC_MutationAssessor_score': 0.885722723513622,\n",
       " 'AUC_MutationTaster_score': 0.6983823009322838,\n",
       " 'AUC_MutPred_score': 0.884233290193849,\n",
       " 'AUC_Polyphen2_HDIV_score': 0.8792789520725851,\n",
       " 'AUC_Polyphen2_HVAR_score': 0.9024275716439436,\n",
       " 'AUC_PrimateAI_score': 0.8734500894775915,\n",
       " 'AUC_PROVEAN_score': 0.8996322093288037,\n",
       " 'AUC_SIFT_score': 0.8957290124974869}"
      ]
     },
     "execution_count": 79,
     "metadata": {},
     "output_type": "execute_result"
    }
   ],
   "source": [
    "average_model"
   ]
  }
 ],
 "metadata": {
  "kernelspec": {
   "display_name": "Python 3 (ipykernel)",
   "language": "python",
   "name": "python3"
  },
  "language_info": {
   "codemirror_mode": {
    "name": "ipython",
    "version": 3
   },
   "file_extension": ".py",
   "mimetype": "text/x-python",
   "name": "python",
   "nbconvert_exporter": "python",
   "pygments_lexer": "ipython3",
   "version": "3.9.12"
  }
 },
 "nbformat": 4,
 "nbformat_minor": 5
}
